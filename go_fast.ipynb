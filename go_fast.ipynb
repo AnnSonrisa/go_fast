{
 "cells": [
  {
   "cell_type": "markdown",
   "id": "620bcec2",
   "metadata": {},
   "source": [
    "Вы аналитик популярного сервиса аренды самокатов GoFast. Вам передали данные о некоторых пользователях из нескольких городов, а также об их поездках. \n",
    "\n",
    "Необходимо проанализировать данные и проверить некоторые гипотезы, которые могут помочь бизнесу вырасти.\n",
    "\n",
    "Чтобы совершать поездки по городу, пользователи сервиса GoFast пользуются мобильным приложением. Сервисом можно пользоваться:\n",
    "- без подписки: абонентская плата отсутствует, стоимость одной минуты поездки — 8 рублей; стоимость старта (начала поездки) — 50 рублей;\n",
    "- с подпиской Ultra: абонентская плата — 199 рублей в месяц; стоимость одной минуты поездки — 6 рублей; стоимость старта —бесплатно;\n",
    "\n",
    "**Описание данных**\n",
    "\n",
    "В основных данных есть информация о пользователях, их поездках и подписках.\n",
    "\n",
    "*Пользователи — users_go.csv*\n",
    "- user_id -\tуникальный идентификатор пользователя\n",
    "- name - имя пользователя\n",
    "- age -\tвозраст\n",
    "- city - город\n",
    "- subscription_type - тип подписки (free, ultra)\n",
    "\n",
    "*Поездки — rides_go.csv*\n",
    "- user_id -\tуникальный идентификатор пользователя\n",
    "- distance - расстояние, которое пользователь проехал в текущей сессии (в метрах)\n",
    "- duration - продолжительность сессии (в минутах) — время с того момента, как пользователь нажал кнопку «Начать поездку» до момента, как он нажал кнопку «Завершить поездку»\n",
    "- date - дата совершения поездки\n",
    "\n",
    "*Подписки — subscriptions_go.csv*\n",
    "- subscription_type - тип подписки\n",
    "- minute_price - стоимость одной минуты поездки по данной подписке\n",
    "- start_ride_price - стоимость начала поездки\n",
    "- subscription_fee - стоимость ежемесячного платежа"
   ]
  },
  {
   "cell_type": "code",
   "execution_count": 1,
   "id": "72576667",
   "metadata": {},
   "outputs": [],
   "source": [
    "import pandas as pd"
   ]
  },
  {
   "cell_type": "markdown",
   "id": "c42cbe00",
   "metadata": {},
   "source": [
    "#### Шаг 1. Загрузка данных"
   ]
  },
  {
   "cell_type": "code",
   "execution_count": 2,
   "id": "eff9f206",
   "metadata": {},
   "outputs": [],
   "source": [
    "import pandas as pd\n",
    "import matplotlib.pyplot as plt\n",
    "import seaborn as sns\n",
    "import plotly.express as px\n",
    "import numpy as np\n",
    "from scipy import stats as st"
   ]
  },
  {
   "cell_type": "code",
   "execution_count": 3,
   "id": "db6e0466",
   "metadata": {},
   "outputs": [
    {
     "data": {
      "text/html": [
       "<div>\n",
       "<style scoped>\n",
       "    .dataframe tbody tr th:only-of-type {\n",
       "        vertical-align: middle;\n",
       "    }\n",
       "\n",
       "    .dataframe tbody tr th {\n",
       "        vertical-align: top;\n",
       "    }\n",
       "\n",
       "    .dataframe thead th {\n",
       "        text-align: right;\n",
       "    }\n",
       "</style>\n",
       "<table border=\"1\" class=\"dataframe\">\n",
       "  <thead>\n",
       "    <tr style=\"text-align: right;\">\n",
       "      <th></th>\n",
       "      <th>user_id</th>\n",
       "      <th>name</th>\n",
       "      <th>age</th>\n",
       "      <th>city</th>\n",
       "      <th>subscription_type</th>\n",
       "    </tr>\n",
       "  </thead>\n",
       "  <tbody>\n",
       "    <tr>\n",
       "      <th>0</th>\n",
       "      <td>1</td>\n",
       "      <td>Кира</td>\n",
       "      <td>22</td>\n",
       "      <td>Тюмень</td>\n",
       "      <td>ultra</td>\n",
       "    </tr>\n",
       "    <tr>\n",
       "      <th>1</th>\n",
       "      <td>2</td>\n",
       "      <td>Станислав</td>\n",
       "      <td>31</td>\n",
       "      <td>Омск</td>\n",
       "      <td>ultra</td>\n",
       "    </tr>\n",
       "    <tr>\n",
       "      <th>2</th>\n",
       "      <td>3</td>\n",
       "      <td>Алексей</td>\n",
       "      <td>20</td>\n",
       "      <td>Москва</td>\n",
       "      <td>ultra</td>\n",
       "    </tr>\n",
       "    <tr>\n",
       "      <th>3</th>\n",
       "      <td>4</td>\n",
       "      <td>Константин</td>\n",
       "      <td>26</td>\n",
       "      <td>Ростов-на-Дону</td>\n",
       "      <td>ultra</td>\n",
       "    </tr>\n",
       "    <tr>\n",
       "      <th>4</th>\n",
       "      <td>5</td>\n",
       "      <td>Адель</td>\n",
       "      <td>28</td>\n",
       "      <td>Омск</td>\n",
       "      <td>ultra</td>\n",
       "    </tr>\n",
       "  </tbody>\n",
       "</table>\n",
       "</div>"
      ],
      "text/plain": [
       "   user_id        name  age            city subscription_type\n",
       "0        1        Кира   22          Тюмень             ultra\n",
       "1        2   Станислав   31            Омск             ultra\n",
       "2        3     Алексей   20          Москва             ultra\n",
       "3        4  Константин   26  Ростов-на-Дону             ultra\n",
       "4        5       Адель   28            Омск             ultra"
      ]
     },
     "metadata": {},
     "output_type": "display_data"
    },
    {
     "name": "stdout",
     "output_type": "stream",
     "text": [
      "<class 'pandas.core.frame.DataFrame'>\n",
      "RangeIndex: 1565 entries, 0 to 1564\n",
      "Data columns (total 5 columns):\n",
      " #   Column             Non-Null Count  Dtype \n",
      "---  ------             --------------  ----- \n",
      " 0   user_id            1565 non-null   int64 \n",
      " 1   name               1565 non-null   object\n",
      " 2   age                1565 non-null   int64 \n",
      " 3   city               1565 non-null   object\n",
      " 4   subscription_type  1565 non-null   object\n",
      "dtypes: int64(2), object(3)\n",
      "memory usage: 61.3+ KB\n"
     ]
    }
   ],
   "source": [
    "data_users = pd.read_csv('/datasets/users_go.csv')\n",
    "display(data_users.head())\n",
    "data_users.info()"
   ]
  },
  {
   "cell_type": "code",
   "execution_count": 4,
   "id": "e6dd45ce",
   "metadata": {},
   "outputs": [
    {
     "data": {
      "text/html": [
       "<div>\n",
       "<style scoped>\n",
       "    .dataframe tbody tr th:only-of-type {\n",
       "        vertical-align: middle;\n",
       "    }\n",
       "\n",
       "    .dataframe tbody tr th {\n",
       "        vertical-align: top;\n",
       "    }\n",
       "\n",
       "    .dataframe thead th {\n",
       "        text-align: right;\n",
       "    }\n",
       "</style>\n",
       "<table border=\"1\" class=\"dataframe\">\n",
       "  <thead>\n",
       "    <tr style=\"text-align: right;\">\n",
       "      <th></th>\n",
       "      <th>user_id</th>\n",
       "      <th>distance</th>\n",
       "      <th>duration</th>\n",
       "      <th>date</th>\n",
       "    </tr>\n",
       "  </thead>\n",
       "  <tbody>\n",
       "    <tr>\n",
       "      <th>0</th>\n",
       "      <td>1</td>\n",
       "      <td>4409.919140</td>\n",
       "      <td>25.599769</td>\n",
       "      <td>2021-01-01</td>\n",
       "    </tr>\n",
       "    <tr>\n",
       "      <th>1</th>\n",
       "      <td>1</td>\n",
       "      <td>2617.592153</td>\n",
       "      <td>15.816871</td>\n",
       "      <td>2021-01-18</td>\n",
       "    </tr>\n",
       "    <tr>\n",
       "      <th>2</th>\n",
       "      <td>1</td>\n",
       "      <td>754.159807</td>\n",
       "      <td>6.232113</td>\n",
       "      <td>2021-04-20</td>\n",
       "    </tr>\n",
       "    <tr>\n",
       "      <th>3</th>\n",
       "      <td>1</td>\n",
       "      <td>2694.783254</td>\n",
       "      <td>18.511000</td>\n",
       "      <td>2021-08-11</td>\n",
       "    </tr>\n",
       "    <tr>\n",
       "      <th>4</th>\n",
       "      <td>1</td>\n",
       "      <td>4028.687306</td>\n",
       "      <td>26.265803</td>\n",
       "      <td>2021-08-28</td>\n",
       "    </tr>\n",
       "  </tbody>\n",
       "</table>\n",
       "</div>"
      ],
      "text/plain": [
       "   user_id     distance   duration        date\n",
       "0        1  4409.919140  25.599769  2021-01-01\n",
       "1        1  2617.592153  15.816871  2021-01-18\n",
       "2        1   754.159807   6.232113  2021-04-20\n",
       "3        1  2694.783254  18.511000  2021-08-11\n",
       "4        1  4028.687306  26.265803  2021-08-28"
      ]
     },
     "metadata": {},
     "output_type": "display_data"
    },
    {
     "name": "stdout",
     "output_type": "stream",
     "text": [
      "<class 'pandas.core.frame.DataFrame'>\n",
      "RangeIndex: 18068 entries, 0 to 18067\n",
      "Data columns (total 4 columns):\n",
      " #   Column    Non-Null Count  Dtype  \n",
      "---  ------    --------------  -----  \n",
      " 0   user_id   18068 non-null  int64  \n",
      " 1   distance  18068 non-null  float64\n",
      " 2   duration  18068 non-null  float64\n",
      " 3   date      18068 non-null  object \n",
      "dtypes: float64(2), int64(1), object(1)\n",
      "memory usage: 564.8+ KB\n"
     ]
    }
   ],
   "source": [
    "data_riders = pd.read_csv('/datasets/rides_go.csv')\n",
    "display(data_riders.head())\n",
    "data_riders.info()"
   ]
  },
  {
   "cell_type": "code",
   "execution_count": 5,
   "id": "cd8959a9",
   "metadata": {},
   "outputs": [
    {
     "data": {
      "text/html": [
       "<div>\n",
       "<style scoped>\n",
       "    .dataframe tbody tr th:only-of-type {\n",
       "        vertical-align: middle;\n",
       "    }\n",
       "\n",
       "    .dataframe tbody tr th {\n",
       "        vertical-align: top;\n",
       "    }\n",
       "\n",
       "    .dataframe thead th {\n",
       "        text-align: right;\n",
       "    }\n",
       "</style>\n",
       "<table border=\"1\" class=\"dataframe\">\n",
       "  <thead>\n",
       "    <tr style=\"text-align: right;\">\n",
       "      <th></th>\n",
       "      <th>subscription_type</th>\n",
       "      <th>minute_price</th>\n",
       "      <th>start_ride_price</th>\n",
       "      <th>subscription_fee</th>\n",
       "    </tr>\n",
       "  </thead>\n",
       "  <tbody>\n",
       "    <tr>\n",
       "      <th>0</th>\n",
       "      <td>free</td>\n",
       "      <td>8</td>\n",
       "      <td>50</td>\n",
       "      <td>0</td>\n",
       "    </tr>\n",
       "    <tr>\n",
       "      <th>1</th>\n",
       "      <td>ultra</td>\n",
       "      <td>6</td>\n",
       "      <td>0</td>\n",
       "      <td>199</td>\n",
       "    </tr>\n",
       "  </tbody>\n",
       "</table>\n",
       "</div>"
      ],
      "text/plain": [
       "  subscription_type  minute_price  start_ride_price  subscription_fee\n",
       "0              free             8                50                 0\n",
       "1             ultra             6                 0               199"
      ]
     },
     "metadata": {},
     "output_type": "display_data"
    },
    {
     "name": "stdout",
     "output_type": "stream",
     "text": [
      "<class 'pandas.core.frame.DataFrame'>\n",
      "RangeIndex: 2 entries, 0 to 1\n",
      "Data columns (total 4 columns):\n",
      " #   Column             Non-Null Count  Dtype \n",
      "---  ------             --------------  ----- \n",
      " 0   subscription_type  2 non-null      object\n",
      " 1   minute_price       2 non-null      int64 \n",
      " 2   start_ride_price   2 non-null      int64 \n",
      " 3   subscription_fee   2 non-null      int64 \n",
      "dtypes: int64(3), object(1)\n",
      "memory usage: 192.0+ bytes\n"
     ]
    }
   ],
   "source": [
    "data_subscriptions = pd.read_csv('/datasets/subscriptions_go.csv')\n",
    "display(data_subscriptions.head())\n",
    "data_subscriptions.info()"
   ]
  },
  {
   "cell_type": "markdown",
   "id": "ee15b1d9",
   "metadata": {},
   "source": [
    "Вывод:\n",
    "    \n",
    "Загрузили и рассмотрели данные.\n",
    "\n",
    "Датафрейм 'users_go' имеет 5 столбцов и 1565 строк без пропусков и выбросов.\n",
    "Датафрейм 'rides_go' имеет 4 столбца и 18068 строк без пропусков и выбросов.\n",
    "Датафрейм 'subscriptions_go' имеет 4 столбца и 2 строки без пропусков и выбросов."
   ]
  },
  {
   "cell_type": "markdown",
   "id": "e95ebca7",
   "metadata": {},
   "source": [
    "#### Шаг 2. Предобработка данных"
   ]
  },
  {
   "cell_type": "markdown",
   "id": "d5dd3b79",
   "metadata": {},
   "source": [
    "##### Приведем столбец date к типу даты pandas."
   ]
  },
  {
   "cell_type": "code",
   "execution_count": 6,
   "id": "2c4e4516",
   "metadata": {},
   "outputs": [
    {
     "data": {
      "text/plain": [
       "0   2021-01-01\n",
       "1   2021-01-18\n",
       "2   2021-04-20\n",
       "3   2021-08-11\n",
       "4   2021-08-28\n",
       "Name: date, dtype: datetime64[ns]"
      ]
     },
     "execution_count": 6,
     "metadata": {},
     "output_type": "execute_result"
    }
   ],
   "source": [
    "data_riders['date'] = pd.to_datetime(data_riders['date'], format = '%Y-%m-%d')\n",
    "data_riders['date'].head()"
   ]
  },
  {
   "cell_type": "markdown",
   "id": "1a8b3e09",
   "metadata": {},
   "source": [
    "##### Создадим новый столбец с номером месяца на основе столбца date."
   ]
  },
  {
   "cell_type": "code",
   "execution_count": 7,
   "id": "03b7013f",
   "metadata": {},
   "outputs": [
    {
     "data": {
      "text/plain": [
       "0    1\n",
       "1    1\n",
       "2    4\n",
       "3    8\n",
       "4    8\n",
       "Name: month, dtype: int64"
      ]
     },
     "execution_count": 7,
     "metadata": {},
     "output_type": "execute_result"
    }
   ],
   "source": [
    "data_riders['month'] = data_riders['date'].dt.month\n",
    "data_riders['month'].head()"
   ]
  },
  {
   "cell_type": "markdown",
   "id": "f2c0ab5a",
   "metadata": {},
   "source": [
    "##### Проверим наличие пропущенных значений и дубликатов в датафреймах. Обработаем их, если такие значения присутствуют."
   ]
  },
  {
   "cell_type": "code",
   "execution_count": 8,
   "id": "aa94c0d8",
   "metadata": {},
   "outputs": [
    {
     "data": {
      "text/plain": [
       "31"
      ]
     },
     "execution_count": 8,
     "metadata": {},
     "output_type": "execute_result"
    }
   ],
   "source": [
    "data_users.duplicated().sum()"
   ]
  },
  {
   "cell_type": "code",
   "execution_count": 9,
   "id": "94e5e0b0",
   "metadata": {},
   "outputs": [
    {
     "data": {
      "text/plain": [
       "0"
      ]
     },
     "execution_count": 9,
     "metadata": {},
     "output_type": "execute_result"
    }
   ],
   "source": [
    "data_users.drop_duplicates(inplace=True)\n",
    "data_users.duplicated().sum()"
   ]
  },
  {
   "cell_type": "code",
   "execution_count": 10,
   "id": "14e2c701",
   "metadata": {},
   "outputs": [
    {
     "data": {
      "text/plain": [
       "0"
      ]
     },
     "execution_count": 10,
     "metadata": {},
     "output_type": "execute_result"
    }
   ],
   "source": [
    "data_riders.duplicated().sum()"
   ]
  },
  {
   "cell_type": "markdown",
   "id": "9d55404d",
   "metadata": {},
   "source": [
    "Добавили столбец \"month\" с номером месяца.\n",
    "Удалили строки-дубликаты."
   ]
  },
  {
   "cell_type": "markdown",
   "id": "212593c7",
   "metadata": {},
   "source": [
    "#### Шаг 3. Исследовательский анализ данных"
   ]
  },
  {
   "cell_type": "markdown",
   "id": "00e5a1b6",
   "metadata": {},
   "source": [
    "##### Частота встречаемости городов"
   ]
  },
  {
   "cell_type": "code",
   "execution_count": 11,
   "id": "c0f98c5f",
   "metadata": {},
   "outputs": [
    {
     "data": {
      "text/plain": [
       "Пятигорск         219\n",
       "Екатеринбург      204\n",
       "Ростов-на-Дону    198\n",
       "Краснодар         193\n",
       "Сочи              189\n",
       "Омск              183\n",
       "Тюмень            180\n",
       "Москва            168\n",
       "Name: city, dtype: int64"
      ]
     },
     "execution_count": 11,
     "metadata": {},
     "output_type": "execute_result"
    }
   ],
   "source": [
    "count_of_users_by_city = data_users['city'].value_counts()\n",
    "count_of_users_by_city"
   ]
  },
  {
   "cell_type": "code",
   "execution_count": 12,
   "id": "452f1a55",
   "metadata": {},
   "outputs": [
    {
     "data": {
      "text/plain": [
       "1534"
      ]
     },
     "execution_count": 12,
     "metadata": {},
     "output_type": "execute_result"
    }
   ],
   "source": [
    "# Суммарное число пользователей, указанных в датафрейме.\n",
    "count_of_users_by_city.sum()"
   ]
  },
  {
   "cell_type": "code",
   "execution_count": 13,
   "id": "6fb454f8",
   "metadata": {},
   "outputs": [
    {
     "data": {
      "text/plain": [
       "Пятигорск         14.0\n",
       "Екатеринбург      13.0\n",
       "Ростов-на-Дону    13.0\n",
       "Краснодар         13.0\n",
       "Сочи              12.0\n",
       "Омск              12.0\n",
       "Тюмень            12.0\n",
       "Москва            11.0\n",
       "Name: city, dtype: float64"
      ]
     },
     "execution_count": 13,
     "metadata": {},
     "output_type": "execute_result"
    }
   ],
   "source": [
    "# Найдем процентное соотношение пользователей определенного города к общему числу пользователей\n",
    "count_of_users_by_city['rate'] = round(data_users['city'].value_counts() / \n",
    "                                    count_of_users_by_city.sum(), 2) * 100\n",
    "count_of_users_by_city['rate']"
   ]
  },
  {
   "cell_type": "code",
   "execution_count": 14,
   "id": "123f8117",
   "metadata": {},
   "outputs": [
    {
     "data": {
      "image/png": "[encoded data removed]",
      "text/plain": [
       "<Figure size 432x288 with 1 Axes>"
      ]
     },
     "metadata": {
      "needs_background": "light"
     },
     "output_type": "display_data"
    }
   ],
   "source": [
    "# Распределение пользователей по городам\n",
    "data_users['city'].value_counts().plot(\n",
    "    kind = 'bar', \n",
    "    y = count_of_users_by_city,\n",
    "    title = 'Распределение пользователей по городам');"
   ]
  },
  {
   "cell_type": "markdown",
   "id": "b10fca71",
   "metadata": {},
   "source": [
    "##### Соотношение пользователей с подпиской и без подписки"
   ]
  },
  {
   "cell_type": "code",
   "execution_count": 15,
   "id": "f9e818fd",
   "metadata": {},
   "outputs": [
    {
     "data": {
      "text/plain": [
       "free     835\n",
       "ultra    699\n",
       "Name: subscription_type, dtype: int64"
      ]
     },
     "execution_count": 15,
     "metadata": {},
     "output_type": "execute_result"
    }
   ],
   "source": [
    "count_subscriptions = data_users['subscription_type'].value_counts()\n",
    "count_subscriptions"
   ]
  },
  {
   "cell_type": "code",
   "execution_count": 16,
   "id": "b9d05b0c",
   "metadata": {},
   "outputs": [
    {
     "data": {
      "image/png": "[encoded data removed]",
      "text/plain": [
       "<Figure size 360x360 with 1 Axes>"
      ]
     },
     "metadata": {},
     "output_type": "display_data"
    }
   ],
   "source": [
    "data_users['subscription_type'].value_counts().plot(\n",
    "    kind = 'pie', \n",
    "    y = count_subscriptions, \n",
    "    autopct = '%1.0f%%', \n",
    "    figsize=(5,5),\n",
    "    title = 'Процентное соотношение пользователей в зависимости от тарифа');"
   ]
  },
  {
   "cell_type": "markdown",
   "id": "604a1543",
   "metadata": {},
   "source": [
    "##### Возраст пользователей"
   ]
  },
  {
   "cell_type": "code",
   "execution_count": 17,
   "id": "ddc4aec9",
   "metadata": {},
   "outputs": [
    {
     "data": {
      "image/png": "[encoded data removed]",
      "text/plain": [
       "<Figure size 432x288 with 1 Axes>"
      ]
     },
     "metadata": {
      "needs_background": "light"
     },
     "output_type": "display_data"
    }
   ],
   "source": [
    "plt.hist(data_users['age'], bins = 10)\n",
    "plt.title('Возраст пользователей')\n",
    "plt.xlabel('Возраст')\n",
    "plt.ylabel('Число пользователей')\n",
    "plt.grid()\n",
    "plt.show()"
   ]
  },
  {
   "cell_type": "code",
   "execution_count": 18,
   "id": "e8a39185",
   "metadata": {},
   "outputs": [
    {
     "data": {
      "text/plain": [
       "664    12\n",
       "66     12\n",
       "727    12\n",
       "34     12\n",
       "235    13\n",
       "Name: age, dtype: int64"
      ]
     },
     "execution_count": 18,
     "metadata": {},
     "output_type": "execute_result"
    }
   ],
   "source": [
    "# Найдем младших пользователей\n",
    "data_users['age'].sort_values().head()"
   ]
  },
  {
   "cell_type": "code",
   "execution_count": 19,
   "id": "4e2a5eed",
   "metadata": {},
   "outputs": [
    {
     "data": {
      "text/plain": [
       "1201    43\n",
       "961     39\n",
       "804     38\n",
       "453     38\n",
       "383     38\n",
       "Name: age, dtype: int64"
      ]
     },
     "execution_count": 19,
     "metadata": {},
     "output_type": "execute_result"
    }
   ],
   "source": [
    "# Найдем старших пользователей\n",
    "data_users['age'].sort_values(ascending=False).head()"
   ]
  },
  {
   "cell_type": "code",
   "execution_count": 20,
   "id": "f192ac75",
   "metadata": {},
   "outputs": [
    {
     "data": {
      "text/plain": [
       "count    1534.000000\n",
       "mean       24.903520\n",
       "std         4.572367\n",
       "min        12.000000\n",
       "25%        22.000000\n",
       "50%        25.000000\n",
       "75%        28.000000\n",
       "max        43.000000\n",
       "Name: age, dtype: float64"
      ]
     },
     "execution_count": 20,
     "metadata": {},
     "output_type": "execute_result"
    }
   ],
   "source": [
    "data_users['age'].describe()"
   ]
  },
  {
   "cell_type": "markdown",
   "id": "6fd2ca69",
   "metadata": {},
   "source": [
    "##### Расстояние, которое пользователь преодолел за одну поездку"
   ]
  },
  {
   "cell_type": "code",
   "execution_count": 21,
   "id": "f572c072",
   "metadata": {},
   "outputs": [
    {
     "data": {
      "image/png": "[encoded data removed]",
      "text/plain": [
       "<Figure size 432x288 with 1 Axes>"
      ]
     },
     "metadata": {
      "needs_background": "light"
     },
     "output_type": "display_data"
    }
   ],
   "source": [
    "plt.hist(data_riders['distance'], bins = 10)\n",
    "plt.title('Расстояние, преодоленное за одну поездку')\n",
    "plt.xlabel('Расстояние, м')\n",
    "plt.ylabel('Число пользователей')\n",
    "plt.grid()\n",
    "plt.show()"
   ]
  },
  {
   "cell_type": "code",
   "execution_count": 22,
   "id": "171ecd46",
   "metadata": {},
   "outputs": [
    {
     "data": {
      "text/plain": [
       "16309    7211.007745\n",
       "16484    7066.003772\n",
       "15580    6908.491343\n",
       "17171    6760.940067\n",
       "17242    6724.932981\n",
       "Name: distance, dtype: float64"
      ]
     },
     "execution_count": 22,
     "metadata": {},
     "output_type": "execute_result"
    }
   ],
   "source": [
    "# Найдем самое длинное расстояние\n",
    "data_riders['distance'].sort_values(ascending=False).head()"
   ]
  },
  {
   "cell_type": "code",
   "execution_count": 23,
   "id": "7e28c04a",
   "metadata": {},
   "outputs": [
    {
     "data": {
      "text/plain": [
       "11555    0.855683\n",
       "9541     2.570787\n",
       "13690    4.329506\n",
       "8658     6.784447\n",
       "7841     7.097072\n",
       "Name: distance, dtype: float64"
      ]
     },
     "execution_count": 23,
     "metadata": {},
     "output_type": "execute_result"
    }
   ],
   "source": [
    "# Найдем самое короткое расстояние\n",
    "data_riders['distance'].sort_values().head()"
   ]
  },
  {
   "cell_type": "markdown",
   "id": "ef488bae",
   "metadata": {},
   "source": [
    "##### Продолжительность поездок"
   ]
  },
  {
   "cell_type": "code",
   "execution_count": 24,
   "id": "51e7fa25",
   "metadata": {},
   "outputs": [
    {
     "data": {
      "image/png": "[encoded data removed]",
      "text/plain": [
       "<Figure size 432x288 with 1 Axes>"
      ]
     },
     "metadata": {
      "needs_background": "light"
     },
     "output_type": "display_data"
    }
   ],
   "source": [
    "plt.hist(data_riders['duration'], bins = 10)\n",
    "plt.title('Время, проведенное в поездке')\n",
    "plt.xlabel('Время, минуты')\n",
    "plt.ylabel('Число пользователей')\n",
    "plt.grid()\n",
    "plt.show()"
   ]
  },
  {
   "cell_type": "code",
   "execution_count": 25,
   "id": "97842a20",
   "metadata": {},
   "outputs": [
    {
     "data": {
      "text/plain": [
       "12013    0.5\n",
       "17314    0.5\n",
       "15029    0.5\n",
       "7437     0.5\n",
       "12967    0.5\n",
       "Name: duration, dtype: float64"
      ]
     },
     "execution_count": 25,
     "metadata": {},
     "output_type": "execute_result"
    }
   ],
   "source": [
    "# Найдем самое маленькое время поездки\n",
    "data_riders['duration'].sort_values().head()"
   ]
  },
  {
   "cell_type": "code",
   "execution_count": 26,
   "id": "a7864ded",
   "metadata": {},
   "outputs": [
    {
     "data": {
      "text/plain": [
       "4215    40.823963\n",
       "4709    39.873856\n",
       "2623    39.526602\n",
       "1998    38.352763\n",
       "6453    38.265229\n",
       "Name: duration, dtype: float64"
      ]
     },
     "execution_count": 26,
     "metadata": {},
     "output_type": "execute_result"
    }
   ],
   "source": [
    "# Найдем самое длинное время поездки\n",
    "data_riders['duration'].sort_values(ascending=False).head()"
   ]
  },
  {
   "cell_type": "markdown",
   "id": "f96a193d",
   "metadata": {},
   "source": [
    "**Частота встречаемости городов**\n",
    "\n",
    "Примерно одинаковое число пользователей по городам, нет выдающихся значений. \n",
    "Больше всего пользователей в Пятигорске. \n",
    "Меньше всего пользователей в Москве. \n",
    "Это может быть связано с тем, Москва больше Пятигорска и много людей предпочитают пользоваться метро, чем наземным транспортом."
   ]
  },
  {
   "cell_type": "markdown",
   "id": "8f342e34",
   "metadata": {},
   "source": [
    "**Соотношение пользователей с подпиской и без подписки**\n",
    "\n",
    "Больше пользователей, пользующихся бесплатной подпиской. "
   ]
  },
  {
   "cell_type": "markdown",
   "id": "8cb972aa",
   "metadata": {},
   "source": [
    "**Возраст пользователей**\n",
    "\n",
    "В основном пользователи от 20 до 30 лет. Самые младшие - дети 12 лет. Самые старшие - люди 43-х и 39 лет."
   ]
  },
  {
   "cell_type": "markdown",
   "id": "26b40fab",
   "metadata": {},
   "source": [
    "**Расстояние, которое пользователь преодолел за одну поездку**"
   ]
  },
  {
   "cell_type": "markdown",
   "id": "7d4282fc",
   "metadata": {},
   "source": [
    "В основном пользователи проезжают от 2.5 до 4.5 км.\n",
    "Самая короткая дистанция - 860 метров, самая длинная - 7 км 211 метров."
   ]
  },
  {
   "cell_type": "markdown",
   "id": "541a58f0",
   "metadata": {},
   "source": [
    "**Продолжительность поездок**"
   ]
  },
  {
   "cell_type": "markdown",
   "id": "0a015382",
   "metadata": {},
   "source": [
    "В основном длительность поездки составляет 10 - 25 минут.\n",
    "Самые короткие поездки - поездки по половине минуты. Это странно.\n",
    "Самые длинные поездки - по 40 минут."
   ]
  },
  {
   "cell_type": "markdown",
   "id": "4ef51331",
   "metadata": {},
   "source": [
    "#### Шаг 4. Объединение данных"
   ]
  },
  {
   "cell_type": "markdown",
   "id": "4ff01b94",
   "metadata": {},
   "source": [
    "##### Объединим данные о пользователях, поездках и подписках в один датафрейм."
   ]
  },
  {
   "cell_type": "code",
   "execution_count": 27,
   "id": "6bf288b5",
   "metadata": {},
   "outputs": [
    {
     "data": {
      "text/html": [
       "<div>\n",
       "<style scoped>\n",
       "    .dataframe tbody tr th:only-of-type {\n",
       "        vertical-align: middle;\n",
       "    }\n",
       "\n",
       "    .dataframe tbody tr th {\n",
       "        vertical-align: top;\n",
       "    }\n",
       "\n",
       "    .dataframe thead th {\n",
       "        text-align: right;\n",
       "    }\n",
       "</style>\n",
       "<table border=\"1\" class=\"dataframe\">\n",
       "  <thead>\n",
       "    <tr style=\"text-align: right;\">\n",
       "      <th></th>\n",
       "      <th>user_id</th>\n",
       "      <th>name</th>\n",
       "      <th>age</th>\n",
       "      <th>city</th>\n",
       "      <th>subscription_type</th>\n",
       "      <th>distance</th>\n",
       "      <th>duration</th>\n",
       "      <th>date</th>\n",
       "      <th>month</th>\n",
       "      <th>minute_price</th>\n",
       "      <th>start_ride_price</th>\n",
       "      <th>subscription_fee</th>\n",
       "    </tr>\n",
       "  </thead>\n",
       "  <tbody>\n",
       "    <tr>\n",
       "      <th>0</th>\n",
       "      <td>1</td>\n",
       "      <td>Кира</td>\n",
       "      <td>22</td>\n",
       "      <td>Тюмень</td>\n",
       "      <td>ultra</td>\n",
       "      <td>4409.919140</td>\n",
       "      <td>25.599769</td>\n",
       "      <td>2021-01-01</td>\n",
       "      <td>1</td>\n",
       "      <td>6</td>\n",
       "      <td>0</td>\n",
       "      <td>199</td>\n",
       "    </tr>\n",
       "    <tr>\n",
       "      <th>1</th>\n",
       "      <td>1</td>\n",
       "      <td>Кира</td>\n",
       "      <td>22</td>\n",
       "      <td>Тюмень</td>\n",
       "      <td>ultra</td>\n",
       "      <td>2617.592153</td>\n",
       "      <td>15.816871</td>\n",
       "      <td>2021-01-18</td>\n",
       "      <td>1</td>\n",
       "      <td>6</td>\n",
       "      <td>0</td>\n",
       "      <td>199</td>\n",
       "    </tr>\n",
       "    <tr>\n",
       "      <th>2</th>\n",
       "      <td>1</td>\n",
       "      <td>Кира</td>\n",
       "      <td>22</td>\n",
       "      <td>Тюмень</td>\n",
       "      <td>ultra</td>\n",
       "      <td>754.159807</td>\n",
       "      <td>6.232113</td>\n",
       "      <td>2021-04-20</td>\n",
       "      <td>4</td>\n",
       "      <td>6</td>\n",
       "      <td>0</td>\n",
       "      <td>199</td>\n",
       "    </tr>\n",
       "    <tr>\n",
       "      <th>3</th>\n",
       "      <td>1</td>\n",
       "      <td>Кира</td>\n",
       "      <td>22</td>\n",
       "      <td>Тюмень</td>\n",
       "      <td>ultra</td>\n",
       "      <td>2694.783254</td>\n",
       "      <td>18.511000</td>\n",
       "      <td>2021-08-11</td>\n",
       "      <td>8</td>\n",
       "      <td>6</td>\n",
       "      <td>0</td>\n",
       "      <td>199</td>\n",
       "    </tr>\n",
       "    <tr>\n",
       "      <th>4</th>\n",
       "      <td>1</td>\n",
       "      <td>Кира</td>\n",
       "      <td>22</td>\n",
       "      <td>Тюмень</td>\n",
       "      <td>ultra</td>\n",
       "      <td>4028.687306</td>\n",
       "      <td>26.265803</td>\n",
       "      <td>2021-08-28</td>\n",
       "      <td>8</td>\n",
       "      <td>6</td>\n",
       "      <td>0</td>\n",
       "      <td>199</td>\n",
       "    </tr>\n",
       "    <tr>\n",
       "      <th>...</th>\n",
       "      <td>...</td>\n",
       "      <td>...</td>\n",
       "      <td>...</td>\n",
       "      <td>...</td>\n",
       "      <td>...</td>\n",
       "      <td>...</td>\n",
       "      <td>...</td>\n",
       "      <td>...</td>\n",
       "      <td>...</td>\n",
       "      <td>...</td>\n",
       "      <td>...</td>\n",
       "      <td>...</td>\n",
       "    </tr>\n",
       "    <tr>\n",
       "      <th>18063</th>\n",
       "      <td>1534</td>\n",
       "      <td>Альберт</td>\n",
       "      <td>25</td>\n",
       "      <td>Краснодар</td>\n",
       "      <td>free</td>\n",
       "      <td>3781.098080</td>\n",
       "      <td>19.822962</td>\n",
       "      <td>2021-11-04</td>\n",
       "      <td>11</td>\n",
       "      <td>8</td>\n",
       "      <td>50</td>\n",
       "      <td>0</td>\n",
       "    </tr>\n",
       "    <tr>\n",
       "      <th>18064</th>\n",
       "      <td>1534</td>\n",
       "      <td>Альберт</td>\n",
       "      <td>25</td>\n",
       "      <td>Краснодар</td>\n",
       "      <td>free</td>\n",
       "      <td>2840.423057</td>\n",
       "      <td>21.409799</td>\n",
       "      <td>2021-11-16</td>\n",
       "      <td>11</td>\n",
       "      <td>8</td>\n",
       "      <td>50</td>\n",
       "      <td>0</td>\n",
       "    </tr>\n",
       "    <tr>\n",
       "      <th>18065</th>\n",
       "      <td>1534</td>\n",
       "      <td>Альберт</td>\n",
       "      <td>25</td>\n",
       "      <td>Краснодар</td>\n",
       "      <td>free</td>\n",
       "      <td>3826.185507</td>\n",
       "      <td>18.435051</td>\n",
       "      <td>2021-11-18</td>\n",
       "      <td>11</td>\n",
       "      <td>8</td>\n",
       "      <td>50</td>\n",
       "      <td>0</td>\n",
       "    </tr>\n",
       "    <tr>\n",
       "      <th>18066</th>\n",
       "      <td>1534</td>\n",
       "      <td>Альберт</td>\n",
       "      <td>25</td>\n",
       "      <td>Краснодар</td>\n",
       "      <td>free</td>\n",
       "      <td>2902.308661</td>\n",
       "      <td>16.674362</td>\n",
       "      <td>2021-11-27</td>\n",
       "      <td>11</td>\n",
       "      <td>8</td>\n",
       "      <td>50</td>\n",
       "      <td>0</td>\n",
       "    </tr>\n",
       "    <tr>\n",
       "      <th>18067</th>\n",
       "      <td>1534</td>\n",
       "      <td>Альберт</td>\n",
       "      <td>25</td>\n",
       "      <td>Краснодар</td>\n",
       "      <td>free</td>\n",
       "      <td>2371.711192</td>\n",
       "      <td>15.893917</td>\n",
       "      <td>2021-12-29</td>\n",
       "      <td>12</td>\n",
       "      <td>8</td>\n",
       "      <td>50</td>\n",
       "      <td>0</td>\n",
       "    </tr>\n",
       "  </tbody>\n",
       "</table>\n",
       "<p>18068 rows × 12 columns</p>\n",
       "</div>"
      ],
      "text/plain": [
       "       user_id     name  age       city subscription_type     distance  \\\n",
       "0            1     Кира   22     Тюмень             ultra  4409.919140   \n",
       "1            1     Кира   22     Тюмень             ultra  2617.592153   \n",
       "2            1     Кира   22     Тюмень             ultra   754.159807   \n",
       "3            1     Кира   22     Тюмень             ultra  2694.783254   \n",
       "4            1     Кира   22     Тюмень             ultra  4028.687306   \n",
       "...        ...      ...  ...        ...               ...          ...   \n",
       "18063     1534  Альберт   25  Краснодар              free  3781.098080   \n",
       "18064     1534  Альберт   25  Краснодар              free  2840.423057   \n",
       "18065     1534  Альберт   25  Краснодар              free  3826.185507   \n",
       "18066     1534  Альберт   25  Краснодар              free  2902.308661   \n",
       "18067     1534  Альберт   25  Краснодар              free  2371.711192   \n",
       "\n",
       "        duration       date  month  minute_price  start_ride_price  \\\n",
       "0      25.599769 2021-01-01      1             6                 0   \n",
       "1      15.816871 2021-01-18      1             6                 0   \n",
       "2       6.232113 2021-04-20      4             6                 0   \n",
       "3      18.511000 2021-08-11      8             6                 0   \n",
       "4      26.265803 2021-08-28      8             6                 0   \n",
       "...          ...        ...    ...           ...               ...   \n",
       "18063  19.822962 2021-11-04     11             8                50   \n",
       "18064  21.409799 2021-11-16     11             8                50   \n",
       "18065  18.435051 2021-11-18     11             8                50   \n",
       "18066  16.674362 2021-11-27     11             8                50   \n",
       "18067  15.893917 2021-12-29     12             8                50   \n",
       "\n",
       "       subscription_fee  \n",
       "0                   199  \n",
       "1                   199  \n",
       "2                   199  \n",
       "3                   199  \n",
       "4                   199  \n",
       "...                 ...  \n",
       "18063                 0  \n",
       "18064                 0  \n",
       "18065                 0  \n",
       "18066                 0  \n",
       "18067                 0  \n",
       "\n",
       "[18068 rows x 12 columns]"
      ]
     },
     "metadata": {},
     "output_type": "display_data"
    }
   ],
   "source": [
    "merged_data = data_users.merge(data_riders)\n",
    "merged_data = merged_data.merge(data_subscriptions)\n",
    "display(merged_data)"
   ]
  },
  {
   "cell_type": "markdown",
   "id": "08efcf90",
   "metadata": {},
   "source": [
    "##### Создадим два датафрейма: c данными о пользователях без подписки и с данными о пользователях с подпиской"
   ]
  },
  {
   "cell_type": "code",
   "execution_count": 28,
   "id": "65cf4635",
   "metadata": {},
   "outputs": [
    {
     "data": {
      "text/html": [
       "<div>\n",
       "<style scoped>\n",
       "    .dataframe tbody tr th:only-of-type {\n",
       "        vertical-align: middle;\n",
       "    }\n",
       "\n",
       "    .dataframe tbody tr th {\n",
       "        vertical-align: top;\n",
       "    }\n",
       "\n",
       "    .dataframe thead th {\n",
       "        text-align: right;\n",
       "    }\n",
       "</style>\n",
       "<table border=\"1\" class=\"dataframe\">\n",
       "  <thead>\n",
       "    <tr style=\"text-align: right;\">\n",
       "      <th></th>\n",
       "      <th>user_id</th>\n",
       "      <th>name</th>\n",
       "      <th>age</th>\n",
       "      <th>city</th>\n",
       "      <th>subscription_type</th>\n",
       "      <th>distance</th>\n",
       "      <th>duration</th>\n",
       "      <th>date</th>\n",
       "      <th>month</th>\n",
       "      <th>minute_price</th>\n",
       "      <th>start_ride_price</th>\n",
       "      <th>subscription_fee</th>\n",
       "    </tr>\n",
       "  </thead>\n",
       "  <tbody>\n",
       "    <tr>\n",
       "      <th>6500</th>\n",
       "      <td>700</td>\n",
       "      <td>Айдар</td>\n",
       "      <td>22</td>\n",
       "      <td>Омск</td>\n",
       "      <td>free</td>\n",
       "      <td>2515.690719</td>\n",
       "      <td>14.944286</td>\n",
       "      <td>2021-01-02</td>\n",
       "      <td>1</td>\n",
       "      <td>8</td>\n",
       "      <td>50</td>\n",
       "      <td>0</td>\n",
       "    </tr>\n",
       "    <tr>\n",
       "      <th>6501</th>\n",
       "      <td>700</td>\n",
       "      <td>Айдар</td>\n",
       "      <td>22</td>\n",
       "      <td>Омск</td>\n",
       "      <td>free</td>\n",
       "      <td>846.932642</td>\n",
       "      <td>16.234663</td>\n",
       "      <td>2021-02-01</td>\n",
       "      <td>2</td>\n",
       "      <td>8</td>\n",
       "      <td>50</td>\n",
       "      <td>0</td>\n",
       "    </tr>\n",
       "    <tr>\n",
       "      <th>6502</th>\n",
       "      <td>700</td>\n",
       "      <td>Айдар</td>\n",
       "      <td>22</td>\n",
       "      <td>Омск</td>\n",
       "      <td>free</td>\n",
       "      <td>4004.434142</td>\n",
       "      <td>20.016628</td>\n",
       "      <td>2021-02-04</td>\n",
       "      <td>2</td>\n",
       "      <td>8</td>\n",
       "      <td>50</td>\n",
       "      <td>0</td>\n",
       "    </tr>\n",
       "    <tr>\n",
       "      <th>6503</th>\n",
       "      <td>700</td>\n",
       "      <td>Айдар</td>\n",
       "      <td>22</td>\n",
       "      <td>Омск</td>\n",
       "      <td>free</td>\n",
       "      <td>1205.911290</td>\n",
       "      <td>9.782872</td>\n",
       "      <td>2021-02-10</td>\n",
       "      <td>2</td>\n",
       "      <td>8</td>\n",
       "      <td>50</td>\n",
       "      <td>0</td>\n",
       "    </tr>\n",
       "    <tr>\n",
       "      <th>6504</th>\n",
       "      <td>700</td>\n",
       "      <td>Айдар</td>\n",
       "      <td>22</td>\n",
       "      <td>Омск</td>\n",
       "      <td>free</td>\n",
       "      <td>3047.379435</td>\n",
       "      <td>17.427673</td>\n",
       "      <td>2021-02-14</td>\n",
       "      <td>2</td>\n",
       "      <td>8</td>\n",
       "      <td>50</td>\n",
       "      <td>0</td>\n",
       "    </tr>\n",
       "    <tr>\n",
       "      <th>...</th>\n",
       "      <td>...</td>\n",
       "      <td>...</td>\n",
       "      <td>...</td>\n",
       "      <td>...</td>\n",
       "      <td>...</td>\n",
       "      <td>...</td>\n",
       "      <td>...</td>\n",
       "      <td>...</td>\n",
       "      <td>...</td>\n",
       "      <td>...</td>\n",
       "      <td>...</td>\n",
       "      <td>...</td>\n",
       "    </tr>\n",
       "    <tr>\n",
       "      <th>18063</th>\n",
       "      <td>1534</td>\n",
       "      <td>Альберт</td>\n",
       "      <td>25</td>\n",
       "      <td>Краснодар</td>\n",
       "      <td>free</td>\n",
       "      <td>3781.098080</td>\n",
       "      <td>19.822962</td>\n",
       "      <td>2021-11-04</td>\n",
       "      <td>11</td>\n",
       "      <td>8</td>\n",
       "      <td>50</td>\n",
       "      <td>0</td>\n",
       "    </tr>\n",
       "    <tr>\n",
       "      <th>18064</th>\n",
       "      <td>1534</td>\n",
       "      <td>Альберт</td>\n",
       "      <td>25</td>\n",
       "      <td>Краснодар</td>\n",
       "      <td>free</td>\n",
       "      <td>2840.423057</td>\n",
       "      <td>21.409799</td>\n",
       "      <td>2021-11-16</td>\n",
       "      <td>11</td>\n",
       "      <td>8</td>\n",
       "      <td>50</td>\n",
       "      <td>0</td>\n",
       "    </tr>\n",
       "    <tr>\n",
       "      <th>18065</th>\n",
       "      <td>1534</td>\n",
       "      <td>Альберт</td>\n",
       "      <td>25</td>\n",
       "      <td>Краснодар</td>\n",
       "      <td>free</td>\n",
       "      <td>3826.185507</td>\n",
       "      <td>18.435051</td>\n",
       "      <td>2021-11-18</td>\n",
       "      <td>11</td>\n",
       "      <td>8</td>\n",
       "      <td>50</td>\n",
       "      <td>0</td>\n",
       "    </tr>\n",
       "    <tr>\n",
       "      <th>18066</th>\n",
       "      <td>1534</td>\n",
       "      <td>Альберт</td>\n",
       "      <td>25</td>\n",
       "      <td>Краснодар</td>\n",
       "      <td>free</td>\n",
       "      <td>2902.308661</td>\n",
       "      <td>16.674362</td>\n",
       "      <td>2021-11-27</td>\n",
       "      <td>11</td>\n",
       "      <td>8</td>\n",
       "      <td>50</td>\n",
       "      <td>0</td>\n",
       "    </tr>\n",
       "    <tr>\n",
       "      <th>18067</th>\n",
       "      <td>1534</td>\n",
       "      <td>Альберт</td>\n",
       "      <td>25</td>\n",
       "      <td>Краснодар</td>\n",
       "      <td>free</td>\n",
       "      <td>2371.711192</td>\n",
       "      <td>15.893917</td>\n",
       "      <td>2021-12-29</td>\n",
       "      <td>12</td>\n",
       "      <td>8</td>\n",
       "      <td>50</td>\n",
       "      <td>0</td>\n",
       "    </tr>\n",
       "  </tbody>\n",
       "</table>\n",
       "<p>11568 rows × 12 columns</p>\n",
       "</div>"
      ],
      "text/plain": [
       "       user_id     name  age       city subscription_type     distance  \\\n",
       "6500       700    Айдар   22       Омск              free  2515.690719   \n",
       "6501       700    Айдар   22       Омск              free   846.932642   \n",
       "6502       700    Айдар   22       Омск              free  4004.434142   \n",
       "6503       700    Айдар   22       Омск              free  1205.911290   \n",
       "6504       700    Айдар   22       Омск              free  3047.379435   \n",
       "...        ...      ...  ...        ...               ...          ...   \n",
       "18063     1534  Альберт   25  Краснодар              free  3781.098080   \n",
       "18064     1534  Альберт   25  Краснодар              free  2840.423057   \n",
       "18065     1534  Альберт   25  Краснодар              free  3826.185507   \n",
       "18066     1534  Альберт   25  Краснодар              free  2902.308661   \n",
       "18067     1534  Альберт   25  Краснодар              free  2371.711192   \n",
       "\n",
       "        duration       date  month  minute_price  start_ride_price  \\\n",
       "6500   14.944286 2021-01-02      1             8                50   \n",
       "6501   16.234663 2021-02-01      2             8                50   \n",
       "6502   20.016628 2021-02-04      2             8                50   \n",
       "6503    9.782872 2021-02-10      2             8                50   \n",
       "6504   17.427673 2021-02-14      2             8                50   \n",
       "...          ...        ...    ...           ...               ...   \n",
       "18063  19.822962 2021-11-04     11             8                50   \n",
       "18064  21.409799 2021-11-16     11             8                50   \n",
       "18065  18.435051 2021-11-18     11             8                50   \n",
       "18066  16.674362 2021-11-27     11             8                50   \n",
       "18067  15.893917 2021-12-29     12             8                50   \n",
       "\n",
       "       subscription_fee  \n",
       "6500                  0  \n",
       "6501                  0  \n",
       "6502                  0  \n",
       "6503                  0  \n",
       "6504                  0  \n",
       "...                 ...  \n",
       "18063                 0  \n",
       "18064                 0  \n",
       "18065                 0  \n",
       "18066                 0  \n",
       "18067                 0  \n",
       "\n",
       "[11568 rows x 12 columns]"
      ]
     },
     "metadata": {},
     "output_type": "display_data"
    }
   ],
   "source": [
    "# Создадим датафрейм с данными о пользователях без подписки\n",
    "free_subscription = merged_data.query(\"`subscription_type` == 'free'\")\n",
    "display(free_subscription)"
   ]
  },
  {
   "cell_type": "code",
   "execution_count": 29,
   "id": "be5a49f4",
   "metadata": {},
   "outputs": [
    {
     "data": {
      "text/html": [
       "<div>\n",
       "<style scoped>\n",
       "    .dataframe tbody tr th:only-of-type {\n",
       "        vertical-align: middle;\n",
       "    }\n",
       "\n",
       "    .dataframe tbody tr th {\n",
       "        vertical-align: top;\n",
       "    }\n",
       "\n",
       "    .dataframe thead th {\n",
       "        text-align: right;\n",
       "    }\n",
       "</style>\n",
       "<table border=\"1\" class=\"dataframe\">\n",
       "  <thead>\n",
       "    <tr style=\"text-align: right;\">\n",
       "      <th></th>\n",
       "      <th>user_id</th>\n",
       "      <th>name</th>\n",
       "      <th>age</th>\n",
       "      <th>city</th>\n",
       "      <th>subscription_type</th>\n",
       "      <th>distance</th>\n",
       "      <th>duration</th>\n",
       "      <th>date</th>\n",
       "      <th>month</th>\n",
       "      <th>minute_price</th>\n",
       "      <th>start_ride_price</th>\n",
       "      <th>subscription_fee</th>\n",
       "    </tr>\n",
       "  </thead>\n",
       "  <tbody>\n",
       "    <tr>\n",
       "      <th>0</th>\n",
       "      <td>1</td>\n",
       "      <td>Кира</td>\n",
       "      <td>22</td>\n",
       "      <td>Тюмень</td>\n",
       "      <td>ultra</td>\n",
       "      <td>4409.919140</td>\n",
       "      <td>25.599769</td>\n",
       "      <td>2021-01-01</td>\n",
       "      <td>1</td>\n",
       "      <td>6</td>\n",
       "      <td>0</td>\n",
       "      <td>199</td>\n",
       "    </tr>\n",
       "    <tr>\n",
       "      <th>1</th>\n",
       "      <td>1</td>\n",
       "      <td>Кира</td>\n",
       "      <td>22</td>\n",
       "      <td>Тюмень</td>\n",
       "      <td>ultra</td>\n",
       "      <td>2617.592153</td>\n",
       "      <td>15.816871</td>\n",
       "      <td>2021-01-18</td>\n",
       "      <td>1</td>\n",
       "      <td>6</td>\n",
       "      <td>0</td>\n",
       "      <td>199</td>\n",
       "    </tr>\n",
       "    <tr>\n",
       "      <th>2</th>\n",
       "      <td>1</td>\n",
       "      <td>Кира</td>\n",
       "      <td>22</td>\n",
       "      <td>Тюмень</td>\n",
       "      <td>ultra</td>\n",
       "      <td>754.159807</td>\n",
       "      <td>6.232113</td>\n",
       "      <td>2021-04-20</td>\n",
       "      <td>4</td>\n",
       "      <td>6</td>\n",
       "      <td>0</td>\n",
       "      <td>199</td>\n",
       "    </tr>\n",
       "    <tr>\n",
       "      <th>3</th>\n",
       "      <td>1</td>\n",
       "      <td>Кира</td>\n",
       "      <td>22</td>\n",
       "      <td>Тюмень</td>\n",
       "      <td>ultra</td>\n",
       "      <td>2694.783254</td>\n",
       "      <td>18.511000</td>\n",
       "      <td>2021-08-11</td>\n",
       "      <td>8</td>\n",
       "      <td>6</td>\n",
       "      <td>0</td>\n",
       "      <td>199</td>\n",
       "    </tr>\n",
       "    <tr>\n",
       "      <th>4</th>\n",
       "      <td>1</td>\n",
       "      <td>Кира</td>\n",
       "      <td>22</td>\n",
       "      <td>Тюмень</td>\n",
       "      <td>ultra</td>\n",
       "      <td>4028.687306</td>\n",
       "      <td>26.265803</td>\n",
       "      <td>2021-08-28</td>\n",
       "      <td>8</td>\n",
       "      <td>6</td>\n",
       "      <td>0</td>\n",
       "      <td>199</td>\n",
       "    </tr>\n",
       "    <tr>\n",
       "      <th>...</th>\n",
       "      <td>...</td>\n",
       "      <td>...</td>\n",
       "      <td>...</td>\n",
       "      <td>...</td>\n",
       "      <td>...</td>\n",
       "      <td>...</td>\n",
       "      <td>...</td>\n",
       "      <td>...</td>\n",
       "      <td>...</td>\n",
       "      <td>...</td>\n",
       "      <td>...</td>\n",
       "      <td>...</td>\n",
       "    </tr>\n",
       "    <tr>\n",
       "      <th>6495</th>\n",
       "      <td>699</td>\n",
       "      <td>Оксана</td>\n",
       "      <td>22</td>\n",
       "      <td>Москва</td>\n",
       "      <td>ultra</td>\n",
       "      <td>3973.046497</td>\n",
       "      <td>24.671163</td>\n",
       "      <td>2021-08-29</td>\n",
       "      <td>8</td>\n",
       "      <td>6</td>\n",
       "      <td>0</td>\n",
       "      <td>199</td>\n",
       "    </tr>\n",
       "    <tr>\n",
       "      <th>6496</th>\n",
       "      <td>699</td>\n",
       "      <td>Оксана</td>\n",
       "      <td>22</td>\n",
       "      <td>Москва</td>\n",
       "      <td>ultra</td>\n",
       "      <td>3288.702563</td>\n",
       "      <td>15.892886</td>\n",
       "      <td>2021-09-12</td>\n",
       "      <td>9</td>\n",
       "      <td>6</td>\n",
       "      <td>0</td>\n",
       "      <td>199</td>\n",
       "    </tr>\n",
       "    <tr>\n",
       "      <th>6497</th>\n",
       "      <td>699</td>\n",
       "      <td>Оксана</td>\n",
       "      <td>22</td>\n",
       "      <td>Москва</td>\n",
       "      <td>ultra</td>\n",
       "      <td>3076.159348</td>\n",
       "      <td>14.389525</td>\n",
       "      <td>2021-09-26</td>\n",
       "      <td>9</td>\n",
       "      <td>6</td>\n",
       "      <td>0</td>\n",
       "      <td>199</td>\n",
       "    </tr>\n",
       "    <tr>\n",
       "      <th>6498</th>\n",
       "      <td>699</td>\n",
       "      <td>Оксана</td>\n",
       "      <td>22</td>\n",
       "      <td>Москва</td>\n",
       "      <td>ultra</td>\n",
       "      <td>4707.845501</td>\n",
       "      <td>15.839579</td>\n",
       "      <td>2021-10-17</td>\n",
       "      <td>10</td>\n",
       "      <td>6</td>\n",
       "      <td>0</td>\n",
       "      <td>199</td>\n",
       "    </tr>\n",
       "    <tr>\n",
       "      <th>6499</th>\n",
       "      <td>699</td>\n",
       "      <td>Оксана</td>\n",
       "      <td>22</td>\n",
       "      <td>Москва</td>\n",
       "      <td>ultra</td>\n",
       "      <td>3202.890770</td>\n",
       "      <td>25.217345</td>\n",
       "      <td>2021-12-03</td>\n",
       "      <td>12</td>\n",
       "      <td>6</td>\n",
       "      <td>0</td>\n",
       "      <td>199</td>\n",
       "    </tr>\n",
       "  </tbody>\n",
       "</table>\n",
       "<p>6500 rows × 12 columns</p>\n",
       "</div>"
      ],
      "text/plain": [
       "      user_id    name  age    city subscription_type     distance   duration  \\\n",
       "0           1    Кира   22  Тюмень             ultra  4409.919140  25.599769   \n",
       "1           1    Кира   22  Тюмень             ultra  2617.592153  15.816871   \n",
       "2           1    Кира   22  Тюмень             ultra   754.159807   6.232113   \n",
       "3           1    Кира   22  Тюмень             ultra  2694.783254  18.511000   \n",
       "4           1    Кира   22  Тюмень             ultra  4028.687306  26.265803   \n",
       "...       ...     ...  ...     ...               ...          ...        ...   \n",
       "6495      699  Оксана   22  Москва             ultra  3973.046497  24.671163   \n",
       "6496      699  Оксана   22  Москва             ultra  3288.702563  15.892886   \n",
       "6497      699  Оксана   22  Москва             ultra  3076.159348  14.389525   \n",
       "6498      699  Оксана   22  Москва             ultra  4707.845501  15.839579   \n",
       "6499      699  Оксана   22  Москва             ultra  3202.890770  25.217345   \n",
       "\n",
       "           date  month  minute_price  start_ride_price  subscription_fee  \n",
       "0    2021-01-01      1             6                 0               199  \n",
       "1    2021-01-18      1             6                 0               199  \n",
       "2    2021-04-20      4             6                 0               199  \n",
       "3    2021-08-11      8             6                 0               199  \n",
       "4    2021-08-28      8             6                 0               199  \n",
       "...         ...    ...           ...               ...               ...  \n",
       "6495 2021-08-29      8             6                 0               199  \n",
       "6496 2021-09-12      9             6                 0               199  \n",
       "6497 2021-09-26      9             6                 0               199  \n",
       "6498 2021-10-17     10             6                 0               199  \n",
       "6499 2021-12-03     12             6                 0               199  \n",
       "\n",
       "[6500 rows x 12 columns]"
      ]
     },
     "metadata": {},
     "output_type": "display_data"
    }
   ],
   "source": [
    "# Создадим датафрейм с данными о пользователях с подпиской\n",
    "ultra_subscription = merged_data.query(\"`subscription_type` == 'ultra'\")\n",
    "display(ultra_subscription)"
   ]
  },
  {
   "cell_type": "markdown",
   "id": "c9eeaac8",
   "metadata": {},
   "source": [
    "##### Визуализируем информацию о расстоянии и времени поездок для пользователей обеих категорий"
   ]
  },
  {
   "cell_type": "code",
   "execution_count": 30,
   "id": "c07e60aa",
   "metadata": {},
   "outputs": [
    {
     "data": {
      "image/png": "[encoded data removed]",
      "text/plain": [
       "<Figure size 432x288 with 1 Axes>"
      ]
     },
     "metadata": {
      "needs_background": "light"
     },
     "output_type": "display_data"
    },
    {
     "data": {
      "text/plain": [
       "<Figure size 1440x1440 with 0 Axes>"
      ]
     },
     "metadata": {},
     "output_type": "display_data"
    }
   ],
   "source": [
    "# Визуализируем информацию о расстоянии для пользователей без подписки\n",
    "plt.hist(free_subscription['distance'], bins=30, range = (0, 7000))\n",
    "plt.title('Расстояние для пользователей без подписки')\n",
    "plt.xlabel('Расстояние, м')\n",
    "plt.ylabel('Количество поездок')\n",
    "plt.figure(figsize=(20,20))\n",
    "plt.show()"
   ]
  },
  {
   "cell_type": "code",
   "execution_count": 31,
   "id": "9dd47bf2",
   "metadata": {},
   "outputs": [
    {
     "data": {
      "image/png": "[encoded data removed]",
      "text/plain": [
       "<Figure size 432x288 with 1 Axes>"
      ]
     },
     "metadata": {
      "needs_background": "light"
     },
     "output_type": "display_data"
    },
    {
     "data": {
      "text/plain": [
       "<Figure size 1440x1440 with 0 Axes>"
      ]
     },
     "metadata": {},
     "output_type": "display_data"
    }
   ],
   "source": [
    "# Визуализируем информацию о времени для пользователей без подписки\n",
    "plt.hist(free_subscription['duration'], bins=30, range = (0, 40))\n",
    "plt.title('Время для пользователей без подписки')\n",
    "plt.xlabel('Время поездки, минуты')\n",
    "plt.ylabel('Количество поездок')\n",
    "plt.figure(figsize=(20,20))\n",
    "plt.show()"
   ]
  },
  {
   "cell_type": "code",
   "execution_count": 32,
   "id": "7d7d69de",
   "metadata": {},
   "outputs": [
    {
     "data": {
      "image/png": "[encoded data removed]",
      "text/plain": [
       "<Figure size 432x288 with 1 Axes>"
      ]
     },
     "metadata": {
      "needs_background": "light"
     },
     "output_type": "display_data"
    },
    {
     "data": {
      "text/plain": [
       "<Figure size 1440x1440 with 0 Axes>"
      ]
     },
     "metadata": {},
     "output_type": "display_data"
    }
   ],
   "source": [
    "# Визуализируем информацию о расстоянии для пользователей с подпиской\n",
    "plt.hist(ultra_subscription['distance'], bins=30, range = (0, 7000))\n",
    "plt.title('Расстояние для пользователей с подпиской')\n",
    "plt.xlabel('Расстояние, м')\n",
    "plt.ylabel('Количество поездок')\n",
    "plt.figure(figsize=(20,20))\n",
    "plt.show()"
   ]
  },
  {
   "cell_type": "code",
   "execution_count": 33,
   "id": "38619872",
   "metadata": {},
   "outputs": [
    {
     "data": {
      "image/png": "[encoded data removed]",
      "text/plain": [
       "<Figure size 432x288 with 1 Axes>"
      ]
     },
     "metadata": {
      "needs_background": "light"
     },
     "output_type": "display_data"
    },
    {
     "data": {
      "text/plain": [
       "<Figure size 1440x1440 with 0 Axes>"
      ]
     },
     "metadata": {},
     "output_type": "display_data"
    }
   ],
   "source": [
    "# Визуализируем информацию о времени для пользователей с подпиской\n",
    "plt.hist(ultra_subscription['duration'], bins=30, range = (0, 40))\n",
    "plt.title('Время для пользователей с подпиской')\n",
    "plt.xlabel('Время поездки, минуты')\n",
    "plt.ylabel('Количество поездок')\n",
    "plt.figure(figsize=(20,20))\n",
    "plt.show()"
   ]
  },
  {
   "cell_type": "markdown",
   "id": "a88d3d2f",
   "metadata": {},
   "source": [
    "Объединили данные о пользователях, поездках и тарифах в один датафрейм - merged_data.\n",
    "\n",
    "Выделили два датафрейма на основе merged_data:\n",
    " - free_subscription - Информация о пользователях с бесплатным тарифом\n",
    " - ultra_subscription - Информация о пользователях с платным тарифом\n",
    "Визуализировали информацию о расстоянии и времени для каждого из тарифов.\n",
    "\n",
    "Пользователи без подписки совершают поездки длиной от 2 до 4.5 км и продолжительностью от 10 до 30 мин. \n",
    "\n",
    "Пользователи с подпиской в основном совершают поездки длиной от 3 до 3.5 км и продолжительностью от 12 до 22 мин. \n",
    "\n",
    "Можно сделать вывод, что пользователи без подписки совершают более долгие поездки и проезжают большие расстояния, чем пользователи с подпиской."
   ]
  },
  {
   "cell_type": "markdown",
   "id": "402d620f",
   "metadata": {},
   "source": [
    "#### Шаг 5. Подсчёт выручки"
   ]
  },
  {
   "cell_type": "markdown",
   "id": "5feb27cb",
   "metadata": {},
   "source": [
    "##### Найдем суммарное расстояние, количество поездок и суммарное время для каждого пользователя за каждый месяц."
   ]
  },
  {
   "cell_type": "code",
   "execution_count": 34,
   "id": "5b98f2cd",
   "metadata": {},
   "outputs": [
    {
     "data": {
      "text/html": [
       "<div>\n",
       "<style scoped>\n",
       "    .dataframe tbody tr th:only-of-type {\n",
       "        vertical-align: middle;\n",
       "    }\n",
       "\n",
       "    .dataframe tbody tr th {\n",
       "        vertical-align: top;\n",
       "    }\n",
       "\n",
       "    .dataframe thead th {\n",
       "        text-align: right;\n",
       "    }\n",
       "</style>\n",
       "<table border=\"1\" class=\"dataframe\">\n",
       "  <thead>\n",
       "    <tr style=\"text-align: right;\">\n",
       "      <th></th>\n",
       "      <th></th>\n",
       "      <th>duration</th>\n",
       "      <th>count_of_trips</th>\n",
       "      <th>subscription_type</th>\n",
       "    </tr>\n",
       "    <tr>\n",
       "      <th>month</th>\n",
       "      <th>user_id</th>\n",
       "      <th></th>\n",
       "      <th></th>\n",
       "      <th></th>\n",
       "    </tr>\n",
       "  </thead>\n",
       "  <tbody>\n",
       "    <tr>\n",
       "      <th rowspan=\"20\" valign=\"top\">1</th>\n",
       "      <th>1</th>\n",
       "      <td>42.0</td>\n",
       "      <td>2</td>\n",
       "      <td>ultra</td>\n",
       "    </tr>\n",
       "    <tr>\n",
       "      <th>1061</th>\n",
       "      <td>43.0</td>\n",
       "      <td>3</td>\n",
       "      <td>free</td>\n",
       "    </tr>\n",
       "    <tr>\n",
       "      <th>1063</th>\n",
       "      <td>10.0</td>\n",
       "      <td>1</td>\n",
       "      <td>free</td>\n",
       "    </tr>\n",
       "    <tr>\n",
       "      <th>1064</th>\n",
       "      <td>15.0</td>\n",
       "      <td>1</td>\n",
       "      <td>free</td>\n",
       "    </tr>\n",
       "    <tr>\n",
       "      <th>1065</th>\n",
       "      <td>99.0</td>\n",
       "      <td>4</td>\n",
       "      <td>free</td>\n",
       "    </tr>\n",
       "    <tr>\n",
       "      <th>1066</th>\n",
       "      <td>19.0</td>\n",
       "      <td>1</td>\n",
       "      <td>free</td>\n",
       "    </tr>\n",
       "    <tr>\n",
       "      <th>1067</th>\n",
       "      <td>22.0</td>\n",
       "      <td>1</td>\n",
       "      <td>free</td>\n",
       "    </tr>\n",
       "    <tr>\n",
       "      <th>1069</th>\n",
       "      <td>53.0</td>\n",
       "      <td>3</td>\n",
       "      <td>free</td>\n",
       "    </tr>\n",
       "    <tr>\n",
       "      <th>1071</th>\n",
       "      <td>15.0</td>\n",
       "      <td>1</td>\n",
       "      <td>free</td>\n",
       "    </tr>\n",
       "    <tr>\n",
       "      <th>1072</th>\n",
       "      <td>11.0</td>\n",
       "      <td>1</td>\n",
       "      <td>free</td>\n",
       "    </tr>\n",
       "    <tr>\n",
       "      <th>1073</th>\n",
       "      <td>16.0</td>\n",
       "      <td>1</td>\n",
       "      <td>free</td>\n",
       "    </tr>\n",
       "    <tr>\n",
       "      <th>1074</th>\n",
       "      <td>22.0</td>\n",
       "      <td>1</td>\n",
       "      <td>free</td>\n",
       "    </tr>\n",
       "    <tr>\n",
       "      <th>1075</th>\n",
       "      <td>29.0</td>\n",
       "      <td>3</td>\n",
       "      <td>free</td>\n",
       "    </tr>\n",
       "    <tr>\n",
       "      <th>1077</th>\n",
       "      <td>13.0</td>\n",
       "      <td>1</td>\n",
       "      <td>free</td>\n",
       "    </tr>\n",
       "    <tr>\n",
       "      <th>1078</th>\n",
       "      <td>19.0</td>\n",
       "      <td>1</td>\n",
       "      <td>free</td>\n",
       "    </tr>\n",
       "    <tr>\n",
       "      <th>1082</th>\n",
       "      <td>30.0</td>\n",
       "      <td>2</td>\n",
       "      <td>free</td>\n",
       "    </tr>\n",
       "    <tr>\n",
       "      <th>1083</th>\n",
       "      <td>31.0</td>\n",
       "      <td>2</td>\n",
       "      <td>free</td>\n",
       "    </tr>\n",
       "    <tr>\n",
       "      <th>1084</th>\n",
       "      <td>25.0</td>\n",
       "      <td>1</td>\n",
       "      <td>free</td>\n",
       "    </tr>\n",
       "    <tr>\n",
       "      <th>1085</th>\n",
       "      <td>63.0</td>\n",
       "      <td>3</td>\n",
       "      <td>free</td>\n",
       "    </tr>\n",
       "    <tr>\n",
       "      <th>1086</th>\n",
       "      <td>18.0</td>\n",
       "      <td>1</td>\n",
       "      <td>free</td>\n",
       "    </tr>\n",
       "  </tbody>\n",
       "</table>\n",
       "</div>"
      ],
      "text/plain": [
       "               duration  count_of_trips subscription_type\n",
       "month user_id                                            \n",
       "1     1            42.0               2             ultra\n",
       "      1061         43.0               3              free\n",
       "      1063         10.0               1              free\n",
       "      1064         15.0               1              free\n",
       "      1065         99.0               4              free\n",
       "      1066         19.0               1              free\n",
       "      1067         22.0               1              free\n",
       "      1069         53.0               3              free\n",
       "      1071         15.0               1              free\n",
       "      1072         11.0               1              free\n",
       "      1073         16.0               1              free\n",
       "      1074         22.0               1              free\n",
       "      1075         29.0               3              free\n",
       "      1077         13.0               1              free\n",
       "      1078         19.0               1              free\n",
       "      1082         30.0               2              free\n",
       "      1083         31.0               2              free\n",
       "      1084         25.0               1              free\n",
       "      1085         63.0               3              free\n",
       "      1086         18.0               1              free"
      ]
     },
     "execution_count": 34,
     "metadata": {},
     "output_type": "execute_result"
    }
   ],
   "source": [
    "merged_data['duration'] = np.ceil(merged_data['duration'])\n",
    "total_data = pd.pivot_table(merged_data,\n",
    "                           index=['month', 'user_id'],\n",
    "                           values = ['duration', 'name', 'subscription_type'],\n",
    "                           aggfunc = {'duration' : sum, \n",
    "                                     'name' : len,\n",
    "                                      'subscription_type': min\n",
    "                                     })\n",
    "total_data.rename(columns = {'name' : 'count_of_trips'}, inplace = True)\n",
    "total_data.sort_values(by='month').head(20)"
   ]
  },
  {
   "cell_type": "markdown",
   "id": "6855a28a",
   "metadata": {},
   "source": [
    "##### Добавим столбец с помесячной выручкой, которую принёс каждый пользователь"
   ]
  },
  {
   "cell_type": "code",
   "execution_count": 35,
   "id": "db06fc34",
   "metadata": {},
   "outputs": [],
   "source": [
    "def revenue_by_users(row):\n",
    "    if row['subscription_type'] == 'free':\n",
    "        return 8 * row['duration'] + 50 * row['count_of_trips']\n",
    "    else:\n",
    "        return 199 + 6 * row['duration']"
   ]
  },
  {
   "cell_type": "code",
   "execution_count": 36,
   "id": "f34ee370",
   "metadata": {},
   "outputs": [
    {
     "data": {
      "text/html": [
       "<div>\n",
       "<style scoped>\n",
       "    .dataframe tbody tr th:only-of-type {\n",
       "        vertical-align: middle;\n",
       "    }\n",
       "\n",
       "    .dataframe tbody tr th {\n",
       "        vertical-align: top;\n",
       "    }\n",
       "\n",
       "    .dataframe thead th {\n",
       "        text-align: right;\n",
       "    }\n",
       "</style>\n",
       "<table border=\"1\" class=\"dataframe\">\n",
       "  <thead>\n",
       "    <tr style=\"text-align: right;\">\n",
       "      <th></th>\n",
       "      <th></th>\n",
       "      <th>duration</th>\n",
       "      <th>count_of_trips</th>\n",
       "      <th>subscription_type</th>\n",
       "      <th>revenue_per_month_by_users</th>\n",
       "    </tr>\n",
       "    <tr>\n",
       "      <th>month</th>\n",
       "      <th>user_id</th>\n",
       "      <th></th>\n",
       "      <th></th>\n",
       "      <th></th>\n",
       "      <th></th>\n",
       "    </tr>\n",
       "  </thead>\n",
       "  <tbody>\n",
       "    <tr>\n",
       "      <th rowspan=\"30\" valign=\"top\">1</th>\n",
       "      <th>1</th>\n",
       "      <td>42.0</td>\n",
       "      <td>2</td>\n",
       "      <td>ultra</td>\n",
       "      <td>451.0</td>\n",
       "    </tr>\n",
       "    <tr>\n",
       "      <th>3</th>\n",
       "      <td>13.0</td>\n",
       "      <td>1</td>\n",
       "      <td>ultra</td>\n",
       "      <td>277.0</td>\n",
       "    </tr>\n",
       "    <tr>\n",
       "      <th>5</th>\n",
       "      <td>13.0</td>\n",
       "      <td>1</td>\n",
       "      <td>ultra</td>\n",
       "      <td>277.0</td>\n",
       "    </tr>\n",
       "    <tr>\n",
       "      <th>7</th>\n",
       "      <td>28.0</td>\n",
       "      <td>2</td>\n",
       "      <td>ultra</td>\n",
       "      <td>367.0</td>\n",
       "    </tr>\n",
       "    <tr>\n",
       "      <th>12</th>\n",
       "      <td>33.0</td>\n",
       "      <td>1</td>\n",
       "      <td>ultra</td>\n",
       "      <td>397.0</td>\n",
       "    </tr>\n",
       "    <tr>\n",
       "      <th>13</th>\n",
       "      <td>42.0</td>\n",
       "      <td>2</td>\n",
       "      <td>ultra</td>\n",
       "      <td>451.0</td>\n",
       "    </tr>\n",
       "    <tr>\n",
       "      <th>14</th>\n",
       "      <td>35.0</td>\n",
       "      <td>2</td>\n",
       "      <td>ultra</td>\n",
       "      <td>409.0</td>\n",
       "    </tr>\n",
       "    <tr>\n",
       "      <th>15</th>\n",
       "      <td>39.0</td>\n",
       "      <td>1</td>\n",
       "      <td>ultra</td>\n",
       "      <td>433.0</td>\n",
       "    </tr>\n",
       "    <tr>\n",
       "      <th>20</th>\n",
       "      <td>29.0</td>\n",
       "      <td>1</td>\n",
       "      <td>ultra</td>\n",
       "      <td>373.0</td>\n",
       "    </tr>\n",
       "    <tr>\n",
       "      <th>22</th>\n",
       "      <td>13.0</td>\n",
       "      <td>1</td>\n",
       "      <td>ultra</td>\n",
       "      <td>277.0</td>\n",
       "    </tr>\n",
       "    <tr>\n",
       "      <th>25</th>\n",
       "      <td>17.0</td>\n",
       "      <td>1</td>\n",
       "      <td>ultra</td>\n",
       "      <td>301.0</td>\n",
       "    </tr>\n",
       "    <tr>\n",
       "      <th>26</th>\n",
       "      <td>28.0</td>\n",
       "      <td>2</td>\n",
       "      <td>ultra</td>\n",
       "      <td>367.0</td>\n",
       "    </tr>\n",
       "    <tr>\n",
       "      <th>30</th>\n",
       "      <td>25.0</td>\n",
       "      <td>2</td>\n",
       "      <td>ultra</td>\n",
       "      <td>349.0</td>\n",
       "    </tr>\n",
       "    <tr>\n",
       "      <th>32</th>\n",
       "      <td>25.0</td>\n",
       "      <td>1</td>\n",
       "      <td>ultra</td>\n",
       "      <td>349.0</td>\n",
       "    </tr>\n",
       "    <tr>\n",
       "      <th>35</th>\n",
       "      <td>57.0</td>\n",
       "      <td>3</td>\n",
       "      <td>ultra</td>\n",
       "      <td>541.0</td>\n",
       "    </tr>\n",
       "    <tr>\n",
       "      <th>42</th>\n",
       "      <td>23.0</td>\n",
       "      <td>1</td>\n",
       "      <td>ultra</td>\n",
       "      <td>337.0</td>\n",
       "    </tr>\n",
       "    <tr>\n",
       "      <th>43</th>\n",
       "      <td>48.0</td>\n",
       "      <td>2</td>\n",
       "      <td>ultra</td>\n",
       "      <td>487.0</td>\n",
       "    </tr>\n",
       "    <tr>\n",
       "      <th>44</th>\n",
       "      <td>19.0</td>\n",
       "      <td>2</td>\n",
       "      <td>ultra</td>\n",
       "      <td>313.0</td>\n",
       "    </tr>\n",
       "    <tr>\n",
       "      <th>45</th>\n",
       "      <td>27.0</td>\n",
       "      <td>2</td>\n",
       "      <td>ultra</td>\n",
       "      <td>361.0</td>\n",
       "    </tr>\n",
       "    <tr>\n",
       "      <th>46</th>\n",
       "      <td>20.0</td>\n",
       "      <td>1</td>\n",
       "      <td>ultra</td>\n",
       "      <td>319.0</td>\n",
       "    </tr>\n",
       "    <tr>\n",
       "      <th>51</th>\n",
       "      <td>55.0</td>\n",
       "      <td>2</td>\n",
       "      <td>ultra</td>\n",
       "      <td>529.0</td>\n",
       "    </tr>\n",
       "    <tr>\n",
       "      <th>54</th>\n",
       "      <td>19.0</td>\n",
       "      <td>1</td>\n",
       "      <td>ultra</td>\n",
       "      <td>313.0</td>\n",
       "    </tr>\n",
       "    <tr>\n",
       "      <th>55</th>\n",
       "      <td>37.0</td>\n",
       "      <td>2</td>\n",
       "      <td>ultra</td>\n",
       "      <td>421.0</td>\n",
       "    </tr>\n",
       "    <tr>\n",
       "      <th>56</th>\n",
       "      <td>21.0</td>\n",
       "      <td>1</td>\n",
       "      <td>ultra</td>\n",
       "      <td>325.0</td>\n",
       "    </tr>\n",
       "    <tr>\n",
       "      <th>57</th>\n",
       "      <td>26.0</td>\n",
       "      <td>1</td>\n",
       "      <td>ultra</td>\n",
       "      <td>355.0</td>\n",
       "    </tr>\n",
       "    <tr>\n",
       "      <th>60</th>\n",
       "      <td>31.0</td>\n",
       "      <td>2</td>\n",
       "      <td>ultra</td>\n",
       "      <td>385.0</td>\n",
       "    </tr>\n",
       "    <tr>\n",
       "      <th>61</th>\n",
       "      <td>59.0</td>\n",
       "      <td>4</td>\n",
       "      <td>ultra</td>\n",
       "      <td>553.0</td>\n",
       "    </tr>\n",
       "    <tr>\n",
       "      <th>63</th>\n",
       "      <td>22.0</td>\n",
       "      <td>1</td>\n",
       "      <td>ultra</td>\n",
       "      <td>331.0</td>\n",
       "    </tr>\n",
       "    <tr>\n",
       "      <th>64</th>\n",
       "      <td>25.0</td>\n",
       "      <td>1</td>\n",
       "      <td>ultra</td>\n",
       "      <td>349.0</td>\n",
       "    </tr>\n",
       "    <tr>\n",
       "      <th>66</th>\n",
       "      <td>48.0</td>\n",
       "      <td>3</td>\n",
       "      <td>ultra</td>\n",
       "      <td>487.0</td>\n",
       "    </tr>\n",
       "  </tbody>\n",
       "</table>\n",
       "</div>"
      ],
      "text/plain": [
       "               duration  count_of_trips subscription_type  \\\n",
       "month user_id                                               \n",
       "1     1            42.0               2             ultra   \n",
       "      3            13.0               1             ultra   \n",
       "      5            13.0               1             ultra   \n",
       "      7            28.0               2             ultra   \n",
       "      12           33.0               1             ultra   \n",
       "      13           42.0               2             ultra   \n",
       "      14           35.0               2             ultra   \n",
       "      15           39.0               1             ultra   \n",
       "      20           29.0               1             ultra   \n",
       "      22           13.0               1             ultra   \n",
       "      25           17.0               1             ultra   \n",
       "      26           28.0               2             ultra   \n",
       "      30           25.0               2             ultra   \n",
       "      32           25.0               1             ultra   \n",
       "      35           57.0               3             ultra   \n",
       "      42           23.0               1             ultra   \n",
       "      43           48.0               2             ultra   \n",
       "      44           19.0               2             ultra   \n",
       "      45           27.0               2             ultra   \n",
       "      46           20.0               1             ultra   \n",
       "      51           55.0               2             ultra   \n",
       "      54           19.0               1             ultra   \n",
       "      55           37.0               2             ultra   \n",
       "      56           21.0               1             ultra   \n",
       "      57           26.0               1             ultra   \n",
       "      60           31.0               2             ultra   \n",
       "      61           59.0               4             ultra   \n",
       "      63           22.0               1             ultra   \n",
       "      64           25.0               1             ultra   \n",
       "      66           48.0               3             ultra   \n",
       "\n",
       "               revenue_per_month_by_users  \n",
       "month user_id                              \n",
       "1     1                             451.0  \n",
       "      3                             277.0  \n",
       "      5                             277.0  \n",
       "      7                             367.0  \n",
       "      12                            397.0  \n",
       "      13                            451.0  \n",
       "      14                            409.0  \n",
       "      15                            433.0  \n",
       "      20                            373.0  \n",
       "      22                            277.0  \n",
       "      25                            301.0  \n",
       "      26                            367.0  \n",
       "      30                            349.0  \n",
       "      32                            349.0  \n",
       "      35                            541.0  \n",
       "      42                            337.0  \n",
       "      43                            487.0  \n",
       "      44                            313.0  \n",
       "      45                            361.0  \n",
       "      46                            319.0  \n",
       "      51                            529.0  \n",
       "      54                            313.0  \n",
       "      55                            421.0  \n",
       "      56                            325.0  \n",
       "      57                            355.0  \n",
       "      60                            385.0  \n",
       "      61                            553.0  \n",
       "      63                            331.0  \n",
       "      64                            349.0  \n",
       "      66                            487.0  "
      ]
     },
     "execution_count": 36,
     "metadata": {},
     "output_type": "execute_result"
    }
   ],
   "source": [
    "total_data['revenue_per_month_by_users'] = total_data.apply(revenue_by_users, axis=1)\n",
    "total_data.head(30)"
   ]
  },
  {
   "cell_type": "markdown",
   "id": "4bc1d9fa",
   "metadata": {},
   "source": [
    "Создали новый датафрейм с суммарным расстояние, количеством поездок и суммарным времем для каждого пользователя за каждый месяц.\n",
    "\n",
    "Также добавили столбец с помесячной выручкой, которую принес каждый пользователь."
   ]
  },
  {
   "cell_type": "markdown",
   "id": "41545ac0",
   "metadata": {},
   "source": [
    "#### Шаг 6. Проверка гипотез"
   ]
  },
  {
   "cell_type": "markdown",
   "id": "a812190d",
   "metadata": {},
   "source": [
    "##### Тратят ли пользователи с подпиской больше времени на поездки, чем пользователи на бесплатном тарифе?"
   ]
  },
  {
   "cell_type": "markdown",
   "id": "7adcc657",
   "metadata": {},
   "source": [
    "Гипотеза H0 - Время пользователей с подпиской = время (duration) пользователей без подписки\n",
    "\n",
    "Гипотеза H1 - Время пользователей с подпиской  > время (duration) пользователей без подписки"
   ]
  },
  {
   "cell_type": "code",
   "execution_count": 37,
   "id": "08cd356e",
   "metadata": {},
   "outputs": [
    {
     "name": "stdout",
     "output_type": "stream",
     "text": [
      "1.2804098316645618e-34\n",
      "Отвергаем гипотезу H0\n"
     ]
    }
   ],
   "source": [
    "ultra = ultra_subscription['duration'] \n",
    "\n",
    "free = free_subscription['duration']\n",
    "\n",
    "results = st.ttest_ind(ultra, \n",
    "                       free,\n",
    "                       alternative = 'greater')\n",
    "\n",
    "alpha = .05\n",
    "\n",
    "print(results.pvalue)\n",
    "\n",
    "if results.pvalue < alpha:\n",
    "    print('Отвергаем гипотезу H0')\n",
    "else:\n",
    "    print('Не удалось отвергнуть гипотезу H0')"
   ]
  },
  {
   "cell_type": "markdown",
   "id": "09aa046f",
   "metadata": {},
   "source": [
    "Отвергли гипотезу о том, что время поездки пользователей с подпиской не превышает времени поездки пользователей без подписки.\n",
    "\n",
    "Значит пользователи с подпиской тратят больше времени на поездки, чем без подписки. "
   ]
  },
  {
   "cell_type": "markdown",
   "id": "bc1c436e",
   "metadata": {},
   "source": [
    "##### Расстояние одной поездки в 3130 метров — оптимальное с точки зрения износа самоката. Можно ли сказать, что среднее расстояние, которое проезжают пользователи с подпиской за одну поездку, не превышает 3130 метров?"
   ]
  },
  {
   "cell_type": "markdown",
   "id": "8624a53b",
   "metadata": {},
   "source": [
    "Гипотеза H0 - Расстояние пользователей с подпиской = 3130 метров\n",
    "\n",
    "Гипотеза H1 - Расстояние пользователей с подпиской > 3130 метров"
   ]
  },
  {
   "cell_type": "code",
   "execution_count": 38,
   "id": "983e9b59",
   "metadata": {},
   "outputs": [
    {
     "name": "stdout",
     "output_type": "stream",
     "text": [
      "0.9195368847849785\n",
      "Не удалось отвергнуть гипотезу H0\n"
     ]
    }
   ],
   "source": [
    "ultra_dist = ultra_subscription['distance']\n",
    "\n",
    "interested_value = 3130.0\n",
    "\n",
    "alpha = .05\n",
    "\n",
    "results = st.ttest_1samp(\n",
    "    ultra_dist, \n",
    "    interested_value,\n",
    "    alternative='greater')\n",
    "    \n",
    "print(results.pvalue)\n",
    "\n",
    "if (results.pvalue < alpha):\n",
    "    print('Отвергаем гипотезу H0')\n",
    "else:\n",
    "    print('Не удалось отвергнуть гипотезу H0')"
   ]
  },
  {
   "cell_type": "markdown",
   "id": "31a5520b",
   "metadata": {},
   "source": [
    "Не можем отвергнуть гипотезу H0, поэтому не можем утверждать, что расстояние, которое проехали пользователи с подпиской не превышает 3130 метров."
   ]
  },
  {
   "cell_type": "markdown",
   "id": "85e181e7",
   "metadata": {},
   "source": [
    "##### Проверим гипотезу о том, будет ли помесячная выручка от пользователей с подпиской по месяцам выше, чем выручка от пользователей без подписки."
   ]
  },
  {
   "cell_type": "markdown",
   "id": "cc952839",
   "metadata": {},
   "source": [
    "Гипотеза H0 - Выручка пользователей с подпиской = выручка пользователей без подписки\n",
    "\n",
    "Гипотеза H1 - Выручка пользователей с подпиской > выручка пользователей без подписки"
   ]
  },
  {
   "cell_type": "code",
   "execution_count": 39,
   "id": "12f031e5",
   "metadata": {},
   "outputs": [
    {
     "name": "stdout",
     "output_type": "stream",
     "text": [
      "1.8850394384715216e-31\n",
      "Отвергаем H0\n"
     ]
    }
   ],
   "source": [
    "ultra_per_month = total_data.loc[total_data.subscription_type == 'ultra', 'revenue_per_month_by_users'] \n",
    "\n",
    "free_per_month = total_data.loc[total_data.subscription_type == 'free', 'revenue_per_month_by_users'] \n",
    "\n",
    "\n",
    "results = st.ttest_ind(ultra_per_month, \n",
    "                       free_per_month,\n",
    "                       alternative = 'greater')\n",
    "\n",
    "alpha = .05\n",
    "\n",
    "print(results.pvalue)\n",
    "\n",
    "if results.pvalue < alpha:\n",
    "    print('Отвергаем H0')\n",
    "else:\n",
    "    print('Не удалось отвергнуть H0')"
   ]
  },
  {
   "cell_type": "markdown",
   "id": "a89d3d1d",
   "metadata": {},
   "source": [
    "Мы можем утверждать, что выручка с пользователей, имеющих подписку, превышает выручку с пользователей без подписки."
   ]
  },
  {
   "cell_type": "markdown",
   "id": "2ac653bf",
   "metadata": {},
   "source": [
    "##### Представьте такую ситуацию: техническая команда сервиса обновила сервера, с которыми взаимодействует мобильное приложение. Она надеется, что из-за этого количество обращений в техподдержку значимо снизилось. Некоторый файл содержит для каждого пользователя данные о количестве обращений до обновления и после него. Какой тест вам понадобился бы для проверки этой гипотезы?"
   ]
  },
  {
   "cell_type": "markdown",
   "id": "c841fb3c",
   "metadata": {},
   "source": [
    "Мне бы понадобилось использование гипотезы о равенстве средних для зависимых выборок.\n",
    "\n",
    "\n",
    "Гипотеза H0 : μ1 = μ2\n",
    "\n",
    "Гипотеза H1 : μ1 != μ2\n",
    "\n",
    "где μ1 и μ2 - средние значения количество обращений в техподдержку до и после изменения.\n",
    "\n",
    "При сравнении используем метод: scipy.stats.ttest_rel()"
   ]
  },
  {
   "cell_type": "markdown",
   "id": "180f807a",
   "metadata": {},
   "source": [
    "# Вывод."
   ]
  },
  {
   "cell_type": "markdown",
   "id": "928e9280",
   "metadata": {},
   "source": [
    "- Загрузили 3 датафрейма: информацией о пользователях, о поездках, о подписках\n",
    "\n",
    "\n",
    "- Поменяли тип данных у столбца date из датафрейма data_riders к типу даты pandas\n",
    "\n",
    "\n",
    "- Добавили столбец month с номером месяца\n",
    "\n",
    "\n",
    "- Удалили дубликаты строк из датафрейма с пользователями\n",
    "\n",
    "\n",
    "- Исследовательский анализ данных показал, что:\n",
    "    - Количество пользователей по городам распределено примерно одинаково, нет выдающихся значений. Больше всего пользователей в Пятигорске, меньше всего пользователей в Москве.\n",
    "    - Пользователей без подписки больше, чем пользователей с подпиской\n",
    "    - В основном пользователи от 20 до 30 лет. Самые младшие - дети 12 лет. Самые старшие - люди 43-х и 39 лет.\n",
    "    - В основном пользователи проезжают от 2.5 до 4.5 км. Самая короткая дистанция - 860 метров, самая длинная - 7 км 211 метров.\n",
    "    - В основном длительность поездки составляет 10 - 25 минут. Самые короткие поездки - поездки по половине минуты. Самые длинные поездки - по 40 минут.\n",
    "\n",
    "\n",
    "- Объединили в один датафрейм данные о пользователях, поездках и подписках. На основе объединенного датафрейма создали еще 2 датафрейма: Для пользователей с подпиской и без нее.\n",
    "\n",
    "\n",
    "- Визуализировали информацию о расстоянии и времени для каждого из тарифов.\n",
    "\n",
    "\n",
    "- Пользователи без подписки совершают поездки длиной от 2 до 4.5 км и продолжительностью от 10 до 30 мин. \n",
    "\n",
    "\n",
    "- Пользователи с подпиской в основном совершают поездки длиной от 3 до 3.5 км и продолжительностью от 12 до 22 мин. \n",
    "\n",
    "\n",
    "- Проверили гипотезы:\n",
    "    - Пользователи с подпиской тратят больше времени на поездки, чем пользователи без подписки.\n",
    "    - Пользователи с подпиской проезжают расстояние, не превышающее 3130 метров за одну поездку.\n",
    "    - Помесячная выручка от пользователей с подпиской выше, чем выручка от пользователей без подписки."
   ]
  }
 ],
 "metadata": {
  "ExecuteTimeLog": [
   {
    "duration": 1395,
    "start_time": "2024-01-24T08:00:20.546Z"
   },
   {
    "duration": 49,
    "start_time": "2024-01-24T11:59:48.149Z"
   },
   {
    "duration": 1529,
    "start_time": "2024-01-24T11:59:51.273Z"
   },
   {
    "duration": 99,
    "start_time": "2024-01-24T11:59:52.804Z"
   },
   {
    "duration": 44,
    "start_time": "2024-01-24T12:00:11.232Z"
   },
   {
    "duration": 189,
    "start_time": "2024-01-24T12:01:08.220Z"
   },
   {
    "duration": 82,
    "start_time": "2024-01-24T12:01:37.011Z"
   },
   {
    "duration": 68,
    "start_time": "2024-01-24T12:05:09.894Z"
   },
   {
    "duration": 10,
    "start_time": "2024-01-24T12:19:52.879Z"
   },
   {
    "duration": 3,
    "start_time": "2024-01-24T12:19:59.222Z"
   },
   {
    "duration": 42,
    "start_time": "2024-01-24T12:19:59.475Z"
   },
   {
    "duration": 41,
    "start_time": "2024-01-24T12:19:59.793Z"
   },
   {
    "duration": 27,
    "start_time": "2024-01-24T12:20:00.326Z"
   },
   {
    "duration": 10,
    "start_time": "2024-01-24T12:20:02.109Z"
   },
   {
    "duration": 5,
    "start_time": "2024-01-24T12:21:34.918Z"
   },
   {
    "duration": 9,
    "start_time": "2024-01-24T12:21:42.068Z"
   },
   {
    "duration": 7,
    "start_time": "2024-01-24T12:21:54.614Z"
   },
   {
    "duration": 15,
    "start_time": "2024-01-24T12:23:29.793Z"
   },
   {
    "duration": 7,
    "start_time": "2024-01-24T12:24:15.328Z"
   },
   {
    "duration": 6,
    "start_time": "2024-01-24T12:24:18.852Z"
   },
   {
    "duration": 9,
    "start_time": "2024-01-24T12:24:40.820Z"
   },
   {
    "duration": 9,
    "start_time": "2024-01-24T12:24:50.038Z"
   },
   {
    "duration": 6,
    "start_time": "2024-01-24T12:43:29.838Z"
   },
   {
    "duration": 10,
    "start_time": "2024-01-24T12:44:31.873Z"
   },
   {
    "duration": 4,
    "start_time": "2024-01-24T12:44:37.050Z"
   },
   {
    "duration": 6,
    "start_time": "2024-01-24T12:45:37.405Z"
   },
   {
    "duration": 7,
    "start_time": "2024-01-24T12:45:45.867Z"
   },
   {
    "duration": 7,
    "start_time": "2024-01-24T12:46:39.945Z"
   },
   {
    "duration": 10,
    "start_time": "2024-01-24T12:47:07.920Z"
   },
   {
    "duration": 165,
    "start_time": "2024-01-24T12:47:16.042Z"
   },
   {
    "duration": 131,
    "start_time": "2024-01-24T12:47:22.041Z"
   },
   {
    "duration": 260,
    "start_time": "2024-01-24T12:47:26.071Z"
   },
   {
    "duration": 8,
    "start_time": "2024-01-24T12:48:31.407Z"
   },
   {
    "duration": 125,
    "start_time": "2024-01-24T12:48:31.939Z"
   },
   {
    "duration": 112,
    "start_time": "2024-01-24T12:48:35.575Z"
   },
   {
    "duration": 130,
    "start_time": "2024-01-24T12:48:49.635Z"
   },
   {
    "duration": 4,
    "start_time": "2024-01-24T12:50:11.407Z"
   },
   {
    "duration": 5,
    "start_time": "2024-01-24T12:50:16.211Z"
   },
   {
    "duration": 92,
    "start_time": "2024-01-24T12:50:38.336Z"
   },
   {
    "duration": 156,
    "start_time": "2024-01-24T12:54:07.561Z"
   },
   {
    "duration": 149,
    "start_time": "2024-01-24T12:54:16.430Z"
   },
   {
    "duration": 146,
    "start_time": "2024-01-24T12:54:36.510Z"
   },
   {
    "duration": 152,
    "start_time": "2024-01-24T12:54:41.311Z"
   },
   {
    "duration": 173,
    "start_time": "2024-01-24T12:54:49.414Z"
   },
   {
    "duration": 148,
    "start_time": "2024-01-24T12:54:56.606Z"
   },
   {
    "duration": 116,
    "start_time": "2024-01-24T12:56:54.002Z"
   },
   {
    "duration": 148,
    "start_time": "2024-01-24T12:57:20.618Z"
   },
   {
    "duration": 153,
    "start_time": "2024-01-24T12:59:19.102Z"
   },
   {
    "duration": 150,
    "start_time": "2024-01-24T13:02:05.566Z"
   },
   {
    "duration": 5,
    "start_time": "2024-01-24T13:02:20.053Z"
   },
   {
    "duration": 93,
    "start_time": "2024-01-24T13:02:20.353Z"
   },
   {
    "duration": 150,
    "start_time": "2024-01-24T13:02:21.050Z"
   },
   {
    "duration": 156,
    "start_time": "2024-01-24T13:02:21.774Z"
   },
   {
    "duration": 281,
    "start_time": "2024-01-24T13:02:22.658Z"
   },
   {
    "duration": 6,
    "start_time": "2024-01-24T13:02:30.449Z"
   },
   {
    "duration": 86,
    "start_time": "2024-01-24T13:06:58.815Z"
   },
   {
    "duration": 58,
    "start_time": "2024-01-24T13:07:46.705Z"
   },
   {
    "duration": 404,
    "start_time": "2024-01-24T17:59:50.329Z"
   },
   {
    "duration": 1014,
    "start_time": "2024-01-24T17:59:50.735Z"
   },
   {
    "duration": 100,
    "start_time": "2024-01-24T17:59:51.751Z"
   },
   {
    "duration": 250,
    "start_time": "2024-01-24T17:59:51.852Z"
   },
   {
    "duration": 0,
    "start_time": "2024-01-24T17:59:52.104Z"
   },
   {
    "duration": 0,
    "start_time": "2024-01-24T17:59:52.105Z"
   },
   {
    "duration": 0,
    "start_time": "2024-01-24T17:59:52.106Z"
   },
   {
    "duration": 0,
    "start_time": "2024-01-24T17:59:52.107Z"
   },
   {
    "duration": 0,
    "start_time": "2024-01-24T17:59:52.108Z"
   },
   {
    "duration": 0,
    "start_time": "2024-01-24T17:59:52.110Z"
   },
   {
    "duration": 0,
    "start_time": "2024-01-24T17:59:52.110Z"
   },
   {
    "duration": 0,
    "start_time": "2024-01-24T17:59:52.111Z"
   },
   {
    "duration": 0,
    "start_time": "2024-01-24T17:59:52.112Z"
   },
   {
    "duration": 0,
    "start_time": "2024-01-24T17:59:52.113Z"
   },
   {
    "duration": 0,
    "start_time": "2024-01-24T17:59:52.114Z"
   },
   {
    "duration": 0,
    "start_time": "2024-01-24T17:59:52.115Z"
   },
   {
    "duration": 0,
    "start_time": "2024-01-24T17:59:52.116Z"
   },
   {
    "duration": 0,
    "start_time": "2024-01-24T17:59:52.117Z"
   },
   {
    "duration": 0,
    "start_time": "2024-01-24T17:59:52.117Z"
   },
   {
    "duration": 4,
    "start_time": "2024-01-24T18:00:31.680Z"
   },
   {
    "duration": 2,
    "start_time": "2024-01-24T18:00:32.229Z"
   },
   {
    "duration": 38,
    "start_time": "2024-01-24T18:00:32.527Z"
   },
   {
    "duration": 39,
    "start_time": "2024-01-24T18:00:33.354Z"
   },
   {
    "duration": 49,
    "start_time": "2024-01-24T18:00:41.592Z"
   },
   {
    "duration": 75,
    "start_time": "2024-01-24T18:00:45.468Z"
   },
   {
    "duration": 9,
    "start_time": "2024-01-24T18:00:47.470Z"
   },
   {
    "duration": 7,
    "start_time": "2024-01-24T18:00:48.429Z"
   },
   {
    "duration": 5,
    "start_time": "2024-01-24T18:00:53.124Z"
   },
   {
    "duration": 7,
    "start_time": "2024-01-24T18:00:53.394Z"
   },
   {
    "duration": 8,
    "start_time": "2024-01-24T18:00:53.671Z"
   },
   {
    "duration": 5,
    "start_time": "2024-01-24T18:00:56.228Z"
   },
   {
    "duration": 3,
    "start_time": "2024-01-24T18:00:58.500Z"
   },
   {
    "duration": 9,
    "start_time": "2024-01-24T18:00:58.880Z"
   },
   {
    "duration": 145,
    "start_time": "2024-01-24T18:01:01.596Z"
   },
   {
    "duration": 5,
    "start_time": "2024-01-24T18:01:01.988Z"
   },
   {
    "duration": 83,
    "start_time": "2024-01-24T18:01:02.431Z"
   },
   {
    "duration": 138,
    "start_time": "2024-01-24T18:01:14.992Z"
   },
   {
    "duration": 5,
    "start_time": "2024-01-24T18:01:52.159Z"
   },
   {
    "duration": 5,
    "start_time": "2024-01-24T18:02:16.141Z"
   },
   {
    "duration": 6,
    "start_time": "2024-01-24T18:34:05.659Z"
   },
   {
    "duration": 8,
    "start_time": "2024-01-24T18:34:50.553Z"
   },
   {
    "duration": 7,
    "start_time": "2024-01-24T18:35:16.850Z"
   },
   {
    "duration": 7,
    "start_time": "2024-01-24T18:35:55.614Z"
   },
   {
    "duration": 7,
    "start_time": "2024-01-24T18:36:13.879Z"
   },
   {
    "duration": 31,
    "start_time": "2024-01-24T18:45:21.799Z"
   },
   {
    "duration": 30,
    "start_time": "2024-01-24T18:48:09.294Z"
   },
   {
    "duration": 940,
    "start_time": "2024-01-24T18:48:27.135Z"
   },
   {
    "duration": 56,
    "start_time": "2024-01-24T18:49:02.986Z"
   },
   {
    "duration": 6,
    "start_time": "2024-01-24T18:49:13.255Z"
   },
   {
    "duration": 18,
    "start_time": "2024-01-24T18:49:53.846Z"
   },
   {
    "duration": 19,
    "start_time": "2024-01-24T18:50:33.243Z"
   },
   {
    "duration": 9,
    "start_time": "2024-01-24T18:52:29.850Z"
   },
   {
    "duration": 173,
    "start_time": "2024-01-24T18:52:44.184Z"
   },
   {
    "duration": 149,
    "start_time": "2024-01-24T18:52:52.207Z"
   },
   {
    "duration": 150,
    "start_time": "2024-01-24T18:53:24.733Z"
   },
   {
    "duration": 146,
    "start_time": "2024-01-24T18:53:34.948Z"
   },
   {
    "duration": 13,
    "start_time": "2024-01-24T18:54:36.172Z"
   },
   {
    "duration": 177,
    "start_time": "2024-01-24T18:54:41.723Z"
   },
   {
    "duration": 160,
    "start_time": "2024-01-24T18:55:22.552Z"
   },
   {
    "duration": 153,
    "start_time": "2024-01-24T18:56:08.490Z"
   },
   {
    "duration": 173,
    "start_time": "2024-01-24T18:56:11.023Z"
   },
   {
    "duration": 154,
    "start_time": "2024-01-24T18:56:12.183Z"
   },
   {
    "duration": 154,
    "start_time": "2024-01-24T18:56:12.947Z"
   },
   {
    "duration": 159,
    "start_time": "2024-01-24T18:56:26.939Z"
   },
   {
    "duration": 182,
    "start_time": "2024-01-24T18:56:44.380Z"
   },
   {
    "duration": 157,
    "start_time": "2024-01-24T18:56:50.608Z"
   },
   {
    "duration": 155,
    "start_time": "2024-01-24T18:56:54.381Z"
   },
   {
    "duration": 152,
    "start_time": "2024-01-24T18:57:00.702Z"
   },
   {
    "duration": 158,
    "start_time": "2024-01-24T18:57:01.548Z"
   },
   {
    "duration": 170,
    "start_time": "2024-01-24T18:57:02.141Z"
   },
   {
    "duration": 864,
    "start_time": "2024-01-24T19:09:19.532Z"
   },
   {
    "duration": 839,
    "start_time": "2024-01-24T19:09:24.948Z"
   },
   {
    "duration": 17,
    "start_time": "2024-01-24T19:09:58.686Z"
   },
   {
    "duration": 99,
    "start_time": "2024-01-24T19:10:08.150Z"
   },
   {
    "duration": 95,
    "start_time": "2024-01-24T19:10:27.520Z"
   },
   {
    "duration": 16,
    "start_time": "2024-01-24T19:10:39.542Z"
   },
   {
    "duration": 14,
    "start_time": "2024-01-24T19:10:43.183Z"
   },
   {
    "duration": 91,
    "start_time": "2024-01-24T19:10:50.903Z"
   },
   {
    "duration": 89,
    "start_time": "2024-01-24T19:10:58.139Z"
   },
   {
    "duration": 96,
    "start_time": "2024-01-24T19:11:57.497Z"
   },
   {
    "duration": 66,
    "start_time": "2024-01-24T19:12:21.444Z"
   },
   {
    "duration": 18,
    "start_time": "2024-01-24T19:12:28.062Z"
   },
   {
    "duration": 69,
    "start_time": "2024-01-24T19:12:35.211Z"
   },
   {
    "duration": 93,
    "start_time": "2024-01-24T19:12:41.739Z"
   },
   {
    "duration": 90,
    "start_time": "2024-01-24T19:13:17.679Z"
   },
   {
    "duration": 3,
    "start_time": "2024-01-24T19:13:25.399Z"
   },
   {
    "duration": 19,
    "start_time": "2024-01-24T19:13:30.315Z"
   },
   {
    "duration": 21,
    "start_time": "2024-01-24T19:13:39.611Z"
   },
   {
    "duration": 91,
    "start_time": "2024-01-24T19:14:29.855Z"
   },
   {
    "duration": 103,
    "start_time": "2024-01-24T19:15:05.371Z"
   },
   {
    "duration": 21,
    "start_time": "2024-01-24T19:16:37.077Z"
   },
   {
    "duration": 95,
    "start_time": "2024-01-24T19:16:57.420Z"
   },
   {
    "duration": 86,
    "start_time": "2024-01-24T19:17:08.265Z"
   },
   {
    "duration": 85,
    "start_time": "2024-01-24T19:17:16.512Z"
   },
   {
    "duration": 89,
    "start_time": "2024-01-24T19:17:22.318Z"
   },
   {
    "duration": 21,
    "start_time": "2024-01-24T19:17:41.875Z"
   },
   {
    "duration": 90,
    "start_time": "2024-01-24T19:18:38.909Z"
   },
   {
    "duration": 86,
    "start_time": "2024-01-24T19:18:49.371Z"
   },
   {
    "duration": 84,
    "start_time": "2024-01-24T19:18:55.722Z"
   },
   {
    "duration": 89,
    "start_time": "2024-01-24T19:19:16.374Z"
   },
   {
    "duration": 82,
    "start_time": "2024-01-24T19:19:47.203Z"
   },
   {
    "duration": 11,
    "start_time": "2024-01-24T19:20:18.283Z"
   },
   {
    "duration": 838,
    "start_time": "2024-01-24T19:22:34.416Z"
   },
   {
    "duration": 873,
    "start_time": "2024-01-24T19:22:41.413Z"
   },
   {
    "duration": 828,
    "start_time": "2024-01-24T19:22:46.444Z"
   },
   {
    "duration": 162,
    "start_time": "2024-01-24T19:22:55.828Z"
   },
   {
    "duration": 868,
    "start_time": "2024-01-24T19:23:01.375Z"
   },
   {
    "duration": 3,
    "start_time": "2024-01-24T19:24:41.081Z"
   },
   {
    "duration": 1141,
    "start_time": "2024-01-24T19:27:45.692Z"
   },
   {
    "duration": 3,
    "start_time": "2024-01-24T19:28:40.103Z"
   },
   {
    "duration": 112,
    "start_time": "2024-01-24T19:28:40.666Z"
   },
   {
    "duration": 119,
    "start_time": "2024-01-24T19:29:00.852Z"
   },
   {
    "duration": 4,
    "start_time": "2024-01-24T19:30:26.943Z"
   },
   {
    "duration": 4,
    "start_time": "2024-01-24T19:30:29.301Z"
   },
   {
    "duration": 3,
    "start_time": "2024-01-24T19:30:29.916Z"
   },
   {
    "duration": 134,
    "start_time": "2024-01-24T19:30:30.440Z"
   },
   {
    "duration": 75,
    "start_time": "2024-01-24T20:09:59.619Z"
   },
   {
    "duration": 7,
    "start_time": "2024-01-24T20:12:40.705Z"
   },
   {
    "duration": 5,
    "start_time": "2024-01-24T20:13:28.896Z"
   },
   {
    "duration": 54,
    "start_time": "2024-01-24T20:16:50.707Z"
   },
   {
    "duration": 5,
    "start_time": "2024-01-24T20:17:30.971Z"
   },
   {
    "duration": 4,
    "start_time": "2024-01-24T20:17:38.454Z"
   },
   {
    "duration": 73,
    "start_time": "2024-01-24T20:18:42.383Z"
   },
   {
    "duration": 6,
    "start_time": "2024-01-24T20:20:53.655Z"
   },
   {
    "duration": 5,
    "start_time": "2024-01-24T20:20:58.378Z"
   },
   {
    "duration": 6,
    "start_time": "2024-01-24T20:22:45.438Z"
   },
   {
    "duration": 6,
    "start_time": "2024-01-24T20:22:56.074Z"
   },
   {
    "duration": 11,
    "start_time": "2024-01-24T20:25:49.823Z"
   },
   {
    "duration": 5,
    "start_time": "2024-01-24T20:26:46.517Z"
   },
   {
    "duration": 8,
    "start_time": "2024-01-24T20:26:49.580Z"
   },
   {
    "duration": 69,
    "start_time": "2024-01-24T20:27:29.029Z"
   },
   {
    "duration": 8,
    "start_time": "2024-01-24T20:28:06.943Z"
   },
   {
    "duration": 432,
    "start_time": "2024-01-25T05:36:30.660Z"
   },
   {
    "duration": 1032,
    "start_time": "2024-01-25T05:36:31.094Z"
   },
   {
    "duration": 92,
    "start_time": "2024-01-25T05:36:32.128Z"
   },
   {
    "duration": 83,
    "start_time": "2024-01-25T05:36:32.221Z"
   },
   {
    "duration": 64,
    "start_time": "2024-01-25T05:36:32.306Z"
   },
   {
    "duration": 9,
    "start_time": "2024-01-25T05:36:32.371Z"
   },
   {
    "duration": 11,
    "start_time": "2024-01-25T05:36:32.382Z"
   },
   {
    "duration": 8,
    "start_time": "2024-01-25T05:36:32.394Z"
   },
   {
    "duration": 9,
    "start_time": "2024-01-25T05:36:32.404Z"
   },
   {
    "duration": 12,
    "start_time": "2024-01-25T05:36:32.414Z"
   },
   {
    "duration": 4,
    "start_time": "2024-01-25T05:36:32.427Z"
   },
   {
    "duration": 6,
    "start_time": "2024-01-25T05:36:32.453Z"
   },
   {
    "duration": 13,
    "start_time": "2024-01-25T05:36:32.460Z"
   },
   {
    "duration": 141,
    "start_time": "2024-01-25T05:36:32.476Z"
   },
   {
    "duration": 5,
    "start_time": "2024-01-25T05:36:32.618Z"
   },
   {
    "duration": 103,
    "start_time": "2024-01-25T05:36:32.624Z"
   },
   {
    "duration": 174,
    "start_time": "2024-01-25T05:36:32.729Z"
   },
   {
    "duration": 7,
    "start_time": "2024-01-25T05:36:32.905Z"
   },
   {
    "duration": 7,
    "start_time": "2024-01-25T05:36:32.914Z"
   },
   {
    "duration": 170,
    "start_time": "2024-01-25T05:36:32.922Z"
   },
   {
    "duration": 7,
    "start_time": "2024-01-25T05:36:33.093Z"
   },
   {
    "duration": 6,
    "start_time": "2024-01-25T05:36:33.101Z"
   },
   {
    "duration": 167,
    "start_time": "2024-01-25T05:36:33.108Z"
   },
   {
    "duration": 6,
    "start_time": "2024-01-25T05:36:33.276Z"
   },
   {
    "duration": 9,
    "start_time": "2024-01-25T05:36:33.284Z"
   },
   {
    "duration": 29,
    "start_time": "2024-01-25T05:36:33.294Z"
   },
   {
    "duration": 51,
    "start_time": "2024-01-25T05:36:33.325Z"
   },
   {
    "duration": 20,
    "start_time": "2024-01-25T05:36:33.378Z"
   },
   {
    "duration": 176,
    "start_time": "2024-01-25T05:36:33.399Z"
   },
   {
    "duration": 216,
    "start_time": "2024-01-25T05:36:33.577Z"
   },
   {
    "duration": 149,
    "start_time": "2024-01-25T05:36:33.794Z"
   },
   {
    "duration": 158,
    "start_time": "2024-01-25T05:36:33.953Z"
   },
   {
    "duration": 922,
    "start_time": "2024-01-25T05:36:34.112Z"
   },
   {
    "duration": 4,
    "start_time": "2024-01-25T05:36:35.035Z"
   },
   {
    "duration": 31,
    "start_time": "2024-01-25T05:36:35.040Z"
   },
   {
    "duration": 162,
    "start_time": "2024-01-25T05:36:35.073Z"
   },
   {
    "duration": 6,
    "start_time": "2024-01-25T05:36:35.236Z"
   },
   {
    "duration": 15,
    "start_time": "2024-01-25T05:36:35.243Z"
   },
   {
    "duration": 12,
    "start_time": "2024-01-25T05:36:35.260Z"
   },
   {
    "duration": 14,
    "start_time": "2024-01-25T05:39:01.470Z"
   },
   {
    "duration": 6,
    "start_time": "2024-01-25T05:39:26.481Z"
   },
   {
    "duration": 57,
    "start_time": "2024-01-25T12:35:50.853Z"
   },
   {
    "duration": 56,
    "start_time": "2024-01-25T12:48:08.716Z"
   },
   {
    "duration": 59,
    "start_time": "2024-01-25T12:48:29.357Z"
   },
   {
    "duration": 40,
    "start_time": "2024-01-25T12:50:09.830Z"
   },
   {
    "duration": 393,
    "start_time": "2024-01-25T12:50:14.222Z"
   },
   {
    "duration": 963,
    "start_time": "2024-01-25T12:50:14.617Z"
   },
   {
    "duration": 105,
    "start_time": "2024-01-25T12:50:15.582Z"
   },
   {
    "duration": 173,
    "start_time": "2024-01-25T12:50:15.688Z"
   },
   {
    "duration": 67,
    "start_time": "2024-01-25T12:50:15.862Z"
   },
   {
    "duration": 9,
    "start_time": "2024-01-25T12:50:15.931Z"
   },
   {
    "duration": 11,
    "start_time": "2024-01-25T12:50:15.941Z"
   },
   {
    "duration": 8,
    "start_time": "2024-01-25T12:50:15.954Z"
   },
   {
    "duration": 15,
    "start_time": "2024-01-25T12:50:15.963Z"
   },
   {
    "duration": 11,
    "start_time": "2024-01-25T12:50:15.981Z"
   },
   {
    "duration": 5,
    "start_time": "2024-01-25T12:50:15.993Z"
   },
   {
    "duration": 5,
    "start_time": "2024-01-25T12:50:15.999Z"
   },
   {
    "duration": 23,
    "start_time": "2024-01-25T12:50:16.005Z"
   },
   {
    "duration": 219,
    "start_time": "2024-01-25T12:50:16.029Z"
   },
   {
    "duration": 0,
    "start_time": "2024-01-25T12:50:16.250Z"
   },
   {
    "duration": 0,
    "start_time": "2024-01-25T12:50:16.251Z"
   },
   {
    "duration": 0,
    "start_time": "2024-01-25T12:50:16.252Z"
   },
   {
    "duration": 0,
    "start_time": "2024-01-25T12:50:16.253Z"
   },
   {
    "duration": 0,
    "start_time": "2024-01-25T12:50:16.254Z"
   },
   {
    "duration": 0,
    "start_time": "2024-01-25T12:50:16.255Z"
   },
   {
    "duration": 0,
    "start_time": "2024-01-25T12:50:16.256Z"
   },
   {
    "duration": 0,
    "start_time": "2024-01-25T12:50:16.256Z"
   },
   {
    "duration": 0,
    "start_time": "2024-01-25T12:50:16.257Z"
   },
   {
    "duration": 0,
    "start_time": "2024-01-25T12:50:16.258Z"
   },
   {
    "duration": 0,
    "start_time": "2024-01-25T12:50:16.259Z"
   },
   {
    "duration": 0,
    "start_time": "2024-01-25T12:50:16.260Z"
   },
   {
    "duration": 0,
    "start_time": "2024-01-25T12:50:16.261Z"
   },
   {
    "duration": 0,
    "start_time": "2024-01-25T12:50:16.262Z"
   },
   {
    "duration": 0,
    "start_time": "2024-01-25T12:50:16.287Z"
   },
   {
    "duration": 0,
    "start_time": "2024-01-25T12:50:16.288Z"
   },
   {
    "duration": 0,
    "start_time": "2024-01-25T12:50:16.289Z"
   },
   {
    "duration": 0,
    "start_time": "2024-01-25T12:50:16.290Z"
   },
   {
    "duration": 0,
    "start_time": "2024-01-25T12:50:16.290Z"
   },
   {
    "duration": 0,
    "start_time": "2024-01-25T12:50:16.291Z"
   },
   {
    "duration": 0,
    "start_time": "2024-01-25T12:50:16.292Z"
   },
   {
    "duration": 0,
    "start_time": "2024-01-25T12:50:16.293Z"
   },
   {
    "duration": 0,
    "start_time": "2024-01-25T12:50:16.294Z"
   },
   {
    "duration": 0,
    "start_time": "2024-01-25T12:50:16.295Z"
   },
   {
    "duration": 0,
    "start_time": "2024-01-25T12:50:16.296Z"
   },
   {
    "duration": 124,
    "start_time": "2024-01-25T12:50:33.422Z"
   },
   {
    "duration": 5,
    "start_time": "2024-01-25T12:50:58.391Z"
   },
   {
    "duration": 9,
    "start_time": "2024-01-25T12:51:07.251Z"
   },
   {
    "duration": 8,
    "start_time": "2024-01-25T12:51:18.752Z"
   },
   {
    "duration": 51,
    "start_time": "2024-01-25T12:51:55.338Z"
   },
   {
    "duration": 9,
    "start_time": "2024-01-25T12:54:06.033Z"
   },
   {
    "duration": 362,
    "start_time": "2024-01-25T12:54:11.423Z"
   },
   {
    "duration": 796,
    "start_time": "2024-01-25T12:54:11.787Z"
   },
   {
    "duration": 43,
    "start_time": "2024-01-25T12:54:12.586Z"
   },
   {
    "duration": 39,
    "start_time": "2024-01-25T12:54:12.631Z"
   },
   {
    "duration": 24,
    "start_time": "2024-01-25T12:54:12.671Z"
   },
   {
    "duration": 9,
    "start_time": "2024-01-25T12:54:12.696Z"
   },
   {
    "duration": 8,
    "start_time": "2024-01-25T12:54:12.707Z"
   },
   {
    "duration": 9,
    "start_time": "2024-01-25T12:54:12.717Z"
   },
   {
    "duration": 8,
    "start_time": "2024-01-25T12:54:12.727Z"
   },
   {
    "duration": 7,
    "start_time": "2024-01-25T12:54:12.737Z"
   },
   {
    "duration": 4,
    "start_time": "2024-01-25T12:54:12.745Z"
   },
   {
    "duration": 7,
    "start_time": "2024-01-25T12:54:12.751Z"
   },
   {
    "duration": 34,
    "start_time": "2024-01-25T12:54:12.759Z"
   },
   {
    "duration": 140,
    "start_time": "2024-01-25T12:54:12.794Z"
   },
   {
    "duration": 5,
    "start_time": "2024-01-25T12:54:12.936Z"
   },
   {
    "duration": 94,
    "start_time": "2024-01-25T12:54:12.942Z"
   },
   {
    "duration": 133,
    "start_time": "2024-01-25T12:54:13.038Z"
   },
   {
    "duration": 15,
    "start_time": "2024-01-25T12:54:13.173Z"
   },
   {
    "duration": 9,
    "start_time": "2024-01-25T12:54:13.189Z"
   },
   {
    "duration": 12,
    "start_time": "2024-01-25T12:54:13.199Z"
   },
   {
    "duration": 157,
    "start_time": "2024-01-25T12:54:13.213Z"
   },
   {
    "duration": 19,
    "start_time": "2024-01-25T12:54:13.371Z"
   },
   {
    "duration": 6,
    "start_time": "2024-01-25T12:54:13.392Z"
   },
   {
    "duration": 144,
    "start_time": "2024-01-25T12:54:13.400Z"
   },
   {
    "duration": 6,
    "start_time": "2024-01-25T12:54:13.546Z"
   },
   {
    "duration": 12,
    "start_time": "2024-01-25T12:54:13.554Z"
   },
   {
    "duration": 45,
    "start_time": "2024-01-25T12:54:13.567Z"
   },
   {
    "duration": 20,
    "start_time": "2024-01-25T12:54:13.615Z"
   },
   {
    "duration": 19,
    "start_time": "2024-01-25T12:54:13.637Z"
   },
   {
    "duration": 179,
    "start_time": "2024-01-25T12:54:13.657Z"
   },
   {
    "duration": 160,
    "start_time": "2024-01-25T12:54:13.837Z"
   },
   {
    "duration": 210,
    "start_time": "2024-01-25T12:54:13.999Z"
   },
   {
    "duration": 180,
    "start_time": "2024-01-25T12:54:14.210Z"
   },
   {
    "duration": 857,
    "start_time": "2024-01-25T12:54:14.391Z"
   },
   {
    "duration": 4,
    "start_time": "2024-01-25T12:54:15.249Z"
   },
   {
    "duration": 9,
    "start_time": "2024-01-25T12:54:15.254Z"
   },
   {
    "duration": 131,
    "start_time": "2024-01-25T12:54:15.265Z"
   },
   {
    "duration": 5,
    "start_time": "2024-01-25T12:54:15.398Z"
   },
   {
    "duration": 19,
    "start_time": "2024-01-25T12:54:15.405Z"
   },
   {
    "duration": 24,
    "start_time": "2024-01-25T12:54:15.426Z"
   },
   {
    "duration": 215,
    "start_time": "2024-01-25T13:06:01.859Z"
   },
   {
    "duration": 828,
    "start_time": "2024-01-25T13:06:03.697Z"
   },
   {
    "duration": 3,
    "start_time": "2024-01-25T13:06:04.526Z"
   },
   {
    "duration": 375,
    "start_time": "2024-01-25T13:06:09.450Z"
   },
   {
    "duration": 794,
    "start_time": "2024-01-25T13:06:09.827Z"
   },
   {
    "duration": 43,
    "start_time": "2024-01-25T13:06:10.622Z"
   },
   {
    "duration": 40,
    "start_time": "2024-01-25T13:06:10.667Z"
   },
   {
    "duration": 24,
    "start_time": "2024-01-25T13:06:10.709Z"
   },
   {
    "duration": 9,
    "start_time": "2024-01-25T13:06:10.734Z"
   },
   {
    "duration": 15,
    "start_time": "2024-01-25T13:06:10.744Z"
   },
   {
    "duration": 10,
    "start_time": "2024-01-25T13:06:10.760Z"
   },
   {
    "duration": 31,
    "start_time": "2024-01-25T13:06:10.771Z"
   },
   {
    "duration": 8,
    "start_time": "2024-01-25T13:06:10.804Z"
   },
   {
    "duration": 5,
    "start_time": "2024-01-25T13:06:10.813Z"
   },
   {
    "duration": 13,
    "start_time": "2024-01-25T13:06:10.820Z"
   },
   {
    "duration": 16,
    "start_time": "2024-01-25T13:06:10.834Z"
   },
   {
    "duration": 136,
    "start_time": "2024-01-25T13:06:10.851Z"
   },
   {
    "duration": 5,
    "start_time": "2024-01-25T13:06:10.989Z"
   },
   {
    "duration": 84,
    "start_time": "2024-01-25T13:06:10.995Z"
   },
   {
    "duration": 140,
    "start_time": "2024-01-25T13:06:11.087Z"
   },
   {
    "duration": 5,
    "start_time": "2024-01-25T13:06:11.228Z"
   },
   {
    "duration": 26,
    "start_time": "2024-01-25T13:06:11.235Z"
   },
   {
    "duration": 30,
    "start_time": "2024-01-25T13:06:11.262Z"
   },
   {
    "duration": 149,
    "start_time": "2024-01-25T13:06:11.293Z"
   },
   {
    "duration": 6,
    "start_time": "2024-01-25T13:06:11.443Z"
   },
   {
    "duration": 17,
    "start_time": "2024-01-25T13:06:11.450Z"
   },
   {
    "duration": 142,
    "start_time": "2024-01-25T13:06:11.468Z"
   },
   {
    "duration": 6,
    "start_time": "2024-01-25T13:06:11.611Z"
   },
   {
    "duration": 16,
    "start_time": "2024-01-25T13:06:11.619Z"
   },
   {
    "duration": 36,
    "start_time": "2024-01-25T13:06:11.637Z"
   },
   {
    "duration": 20,
    "start_time": "2024-01-25T13:06:11.676Z"
   },
   {
    "duration": 33,
    "start_time": "2024-01-25T13:06:11.697Z"
   },
   {
    "duration": 153,
    "start_time": "2024-01-25T13:06:11.731Z"
   },
   {
    "duration": 152,
    "start_time": "2024-01-25T13:06:11.885Z"
   },
   {
    "duration": 214,
    "start_time": "2024-01-25T13:06:12.039Z"
   },
   {
    "duration": 167,
    "start_time": "2024-01-25T13:06:12.254Z"
   },
   {
    "duration": 782,
    "start_time": "2024-01-25T13:06:12.423Z"
   },
   {
    "duration": 2,
    "start_time": "2024-01-25T13:06:13.207Z"
   },
   {
    "duration": 134,
    "start_time": "2024-01-25T13:06:13.211Z"
   },
   {
    "duration": 5,
    "start_time": "2024-01-25T13:06:13.346Z"
   },
   {
    "duration": 10,
    "start_time": "2024-01-25T13:06:13.352Z"
   },
   {
    "duration": 22,
    "start_time": "2024-01-25T13:06:13.363Z"
   },
   {
    "duration": 59,
    "start_time": "2024-01-25T13:07:10.347Z"
   },
   {
    "duration": 5,
    "start_time": "2024-01-25T13:15:21.647Z"
   },
   {
    "duration": 5,
    "start_time": "2024-01-25T13:16:37.568Z"
   },
   {
    "duration": 5,
    "start_time": "2024-01-25T13:16:57.692Z"
   },
   {
    "duration": 56,
    "start_time": "2024-01-25T13:18:51.812Z"
   },
   {
    "duration": 407,
    "start_time": "2024-01-25T17:11:20.389Z"
   },
   {
    "duration": 1370,
    "start_time": "2024-01-25T17:11:20.798Z"
   },
   {
    "duration": 89,
    "start_time": "2024-01-25T17:11:22.170Z"
   },
   {
    "duration": 97,
    "start_time": "2024-01-25T17:11:22.262Z"
   },
   {
    "duration": 26,
    "start_time": "2024-01-25T17:11:22.361Z"
   },
   {
    "duration": 10,
    "start_time": "2024-01-25T17:11:22.389Z"
   },
   {
    "duration": 60,
    "start_time": "2024-01-25T17:11:22.401Z"
   },
   {
    "duration": 6,
    "start_time": "2024-01-25T17:11:22.463Z"
   },
   {
    "duration": 20,
    "start_time": "2024-01-25T17:11:22.471Z"
   },
   {
    "duration": 9,
    "start_time": "2024-01-25T17:11:22.494Z"
   },
   {
    "duration": 58,
    "start_time": "2024-01-25T17:11:22.505Z"
   },
   {
    "duration": 7,
    "start_time": "2024-01-25T17:11:22.564Z"
   },
   {
    "duration": 10,
    "start_time": "2024-01-25T17:11:22.573Z"
   },
   {
    "duration": 311,
    "start_time": "2024-01-25T17:11:22.584Z"
   },
   {
    "duration": 6,
    "start_time": "2024-01-25T17:11:22.897Z"
   },
   {
    "duration": 197,
    "start_time": "2024-01-25T17:11:22.904Z"
   },
   {
    "duration": 245,
    "start_time": "2024-01-25T17:11:23.103Z"
   },
   {
    "duration": 10,
    "start_time": "2024-01-25T17:11:23.349Z"
   },
   {
    "duration": 6,
    "start_time": "2024-01-25T17:11:23.361Z"
   },
   {
    "duration": 9,
    "start_time": "2024-01-25T17:11:23.368Z"
   },
   {
    "duration": 181,
    "start_time": "2024-01-25T17:11:23.379Z"
   },
   {
    "duration": 7,
    "start_time": "2024-01-25T17:11:23.562Z"
   },
   {
    "duration": 9,
    "start_time": "2024-01-25T17:11:23.571Z"
   },
   {
    "duration": 172,
    "start_time": "2024-01-25T17:11:23.581Z"
   },
   {
    "duration": 7,
    "start_time": "2024-01-25T17:11:23.758Z"
   },
   {
    "duration": 13,
    "start_time": "2024-01-25T17:11:23.766Z"
   },
   {
    "duration": 34,
    "start_time": "2024-01-25T17:11:23.781Z"
   },
   {
    "duration": 43,
    "start_time": "2024-01-25T17:11:23.818Z"
   },
   {
    "duration": 22,
    "start_time": "2024-01-25T17:11:23.862Z"
   },
   {
    "duration": 189,
    "start_time": "2024-01-25T17:11:23.886Z"
   },
   {
    "duration": 200,
    "start_time": "2024-01-25T17:11:24.077Z"
   },
   {
    "duration": 261,
    "start_time": "2024-01-25T17:11:24.279Z"
   },
   {
    "duration": 235,
    "start_time": "2024-01-25T17:11:24.541Z"
   },
   {
    "duration": 961,
    "start_time": "2024-01-25T17:11:24.778Z"
   },
   {
    "duration": 3,
    "start_time": "2024-01-25T17:11:25.741Z"
   },
   {
    "duration": 146,
    "start_time": "2024-01-25T17:11:25.745Z"
   },
   {
    "duration": 5,
    "start_time": "2024-01-25T17:11:25.893Z"
   },
   {
    "duration": 17,
    "start_time": "2024-01-25T17:11:25.900Z"
   },
   {
    "duration": 10,
    "start_time": "2024-01-25T17:11:25.919Z"
   }
  ],
  "kernelspec": {
   "display_name": "Python 3 (ipykernel)",
   "language": "python",
   "name": "python3"
  },
  "language_info": {
   "codemirror_mode": {
    "name": "ipython",
    "version": 3
   },
   "file_extension": ".py",
   "mimetype": "text/x-python",
   "name": "python",
   "nbconvert_exporter": "python",
   "pygments_lexer": "ipython3",
   "version": "3.9.5"
  },
  "toc": {
   "base_numbering": 1,
   "nav_menu": {},
   "number_sections": true,
   "sideBar": true,
   "skip_h1_title": true,
   "title_cell": "Table of Contents",
   "title_sidebar": "Contents",
   "toc_cell": false,
   "toc_position": {},
   "toc_section_display": true,
   "toc_window_display": false
  }
 },
 "nbformat": 4,
 "nbformat_minor": 5
}
